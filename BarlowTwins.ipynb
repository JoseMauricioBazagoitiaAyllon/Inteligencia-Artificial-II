{
  "nbformat": 4,
  "nbformat_minor": 0,
  "metadata": {
    "colab": {
      "name": "BarlowTwins.ipynb",
      "provenance": [],
      "collapsed_sections": [],
      "authorship_tag": "ABX9TyM95eRS/rBojoy6kbjWp7we",
      "include_colab_link": true
    },
    "kernelspec": {
      "name": "python3",
      "display_name": "Python 3"
    },
    "language_info": {
      "name": "python"
    },
    "accelerator": "GPU",
    "gpuClass": "standard",
    "widgets": {
      "application/vnd.jupyter.widget-state+json": {
        "f9013f0e7d3441989e633b6468fcd9af": {
          "model_module": "@jupyter-widgets/controls",
          "model_name": "HBoxModel",
          "model_module_version": "1.5.0",
          "state": {
            "_dom_classes": [],
            "_model_module": "@jupyter-widgets/controls",
            "_model_module_version": "1.5.0",
            "_model_name": "HBoxModel",
            "_view_count": null,
            "_view_module": "@jupyter-widgets/controls",
            "_view_module_version": "1.5.0",
            "_view_name": "HBoxView",
            "box_style": "",
            "children": [
              "IPY_MODEL_948412cfd9a746b28f08021aaaa33bca",
              "IPY_MODEL_7e3a3ad7c2ab427d8f12c147ba6ea64a",
              "IPY_MODEL_43a8c284f2604a13b28b25a0e83e3d70"
            ],
            "layout": "IPY_MODEL_85efe9267a63463dbc1ba5537c926fcf"
          }
        },
        "948412cfd9a746b28f08021aaaa33bca": {
          "model_module": "@jupyter-widgets/controls",
          "model_name": "HTMLModel",
          "model_module_version": "1.5.0",
          "state": {
            "_dom_classes": [],
            "_model_module": "@jupyter-widgets/controls",
            "_model_module_version": "1.5.0",
            "_model_name": "HTMLModel",
            "_view_count": null,
            "_view_module": "@jupyter-widgets/controls",
            "_view_module_version": "1.5.0",
            "_view_name": "HTMLView",
            "description": "",
            "description_tooltip": null,
            "layout": "IPY_MODEL_0007fb28492c46308d5852870bf576c0",
            "placeholder": "​",
            "style": "IPY_MODEL_431ec97cc80f4827af48815befeb07e9",
            "value": "100%"
          }
        },
        "7e3a3ad7c2ab427d8f12c147ba6ea64a": {
          "model_module": "@jupyter-widgets/controls",
          "model_name": "FloatProgressModel",
          "model_module_version": "1.5.0",
          "state": {
            "_dom_classes": [],
            "_model_module": "@jupyter-widgets/controls",
            "_model_module_version": "1.5.0",
            "_model_name": "FloatProgressModel",
            "_view_count": null,
            "_view_module": "@jupyter-widgets/controls",
            "_view_module_version": "1.5.0",
            "_view_name": "ProgressView",
            "bar_style": "success",
            "description": "",
            "description_tooltip": null,
            "layout": "IPY_MODEL_cbf2d317f02e4d33a32fecc73f5c8e64",
            "max": 46830571,
            "min": 0,
            "orientation": "horizontal",
            "style": "IPY_MODEL_862d39ed4dd34a2e9783f44429c97eb4",
            "value": 46830571
          }
        },
        "43a8c284f2604a13b28b25a0e83e3d70": {
          "model_module": "@jupyter-widgets/controls",
          "model_name": "HTMLModel",
          "model_module_version": "1.5.0",
          "state": {
            "_dom_classes": [],
            "_model_module": "@jupyter-widgets/controls",
            "_model_module_version": "1.5.0",
            "_model_name": "HTMLModel",
            "_view_count": null,
            "_view_module": "@jupyter-widgets/controls",
            "_view_module_version": "1.5.0",
            "_view_name": "HTMLView",
            "description": "",
            "description_tooltip": null,
            "layout": "IPY_MODEL_230fdb9257134958a390b1cf5dd453b1",
            "placeholder": "​",
            "style": "IPY_MODEL_89847671890147c5acff6830c5f9453c",
            "value": " 44.7M/44.7M [00:00&lt;00:00, 82.4MB/s]"
          }
        },
        "85efe9267a63463dbc1ba5537c926fcf": {
          "model_module": "@jupyter-widgets/base",
          "model_name": "LayoutModel",
          "model_module_version": "1.2.0",
          "state": {
            "_model_module": "@jupyter-widgets/base",
            "_model_module_version": "1.2.0",
            "_model_name": "LayoutModel",
            "_view_count": null,
            "_view_module": "@jupyter-widgets/base",
            "_view_module_version": "1.2.0",
            "_view_name": "LayoutView",
            "align_content": null,
            "align_items": null,
            "align_self": null,
            "border": null,
            "bottom": null,
            "display": null,
            "flex": null,
            "flex_flow": null,
            "grid_area": null,
            "grid_auto_columns": null,
            "grid_auto_flow": null,
            "grid_auto_rows": null,
            "grid_column": null,
            "grid_gap": null,
            "grid_row": null,
            "grid_template_areas": null,
            "grid_template_columns": null,
            "grid_template_rows": null,
            "height": null,
            "justify_content": null,
            "justify_items": null,
            "left": null,
            "margin": null,
            "max_height": null,
            "max_width": null,
            "min_height": null,
            "min_width": null,
            "object_fit": null,
            "object_position": null,
            "order": null,
            "overflow": null,
            "overflow_x": null,
            "overflow_y": null,
            "padding": null,
            "right": null,
            "top": null,
            "visibility": null,
            "width": null
          }
        },
        "0007fb28492c46308d5852870bf576c0": {
          "model_module": "@jupyter-widgets/base",
          "model_name": "LayoutModel",
          "model_module_version": "1.2.0",
          "state": {
            "_model_module": "@jupyter-widgets/base",
            "_model_module_version": "1.2.0",
            "_model_name": "LayoutModel",
            "_view_count": null,
            "_view_module": "@jupyter-widgets/base",
            "_view_module_version": "1.2.0",
            "_view_name": "LayoutView",
            "align_content": null,
            "align_items": null,
            "align_self": null,
            "border": null,
            "bottom": null,
            "display": null,
            "flex": null,
            "flex_flow": null,
            "grid_area": null,
            "grid_auto_columns": null,
            "grid_auto_flow": null,
            "grid_auto_rows": null,
            "grid_column": null,
            "grid_gap": null,
            "grid_row": null,
            "grid_template_areas": null,
            "grid_template_columns": null,
            "grid_template_rows": null,
            "height": null,
            "justify_content": null,
            "justify_items": null,
            "left": null,
            "margin": null,
            "max_height": null,
            "max_width": null,
            "min_height": null,
            "min_width": null,
            "object_fit": null,
            "object_position": null,
            "order": null,
            "overflow": null,
            "overflow_x": null,
            "overflow_y": null,
            "padding": null,
            "right": null,
            "top": null,
            "visibility": null,
            "width": null
          }
        },
        "431ec97cc80f4827af48815befeb07e9": {
          "model_module": "@jupyter-widgets/controls",
          "model_name": "DescriptionStyleModel",
          "model_module_version": "1.5.0",
          "state": {
            "_model_module": "@jupyter-widgets/controls",
            "_model_module_version": "1.5.0",
            "_model_name": "DescriptionStyleModel",
            "_view_count": null,
            "_view_module": "@jupyter-widgets/base",
            "_view_module_version": "1.2.0",
            "_view_name": "StyleView",
            "description_width": ""
          }
        },
        "cbf2d317f02e4d33a32fecc73f5c8e64": {
          "model_module": "@jupyter-widgets/base",
          "model_name": "LayoutModel",
          "model_module_version": "1.2.0",
          "state": {
            "_model_module": "@jupyter-widgets/base",
            "_model_module_version": "1.2.0",
            "_model_name": "LayoutModel",
            "_view_count": null,
            "_view_module": "@jupyter-widgets/base",
            "_view_module_version": "1.2.0",
            "_view_name": "LayoutView",
            "align_content": null,
            "align_items": null,
            "align_self": null,
            "border": null,
            "bottom": null,
            "display": null,
            "flex": null,
            "flex_flow": null,
            "grid_area": null,
            "grid_auto_columns": null,
            "grid_auto_flow": null,
            "grid_auto_rows": null,
            "grid_column": null,
            "grid_gap": null,
            "grid_row": null,
            "grid_template_areas": null,
            "grid_template_columns": null,
            "grid_template_rows": null,
            "height": null,
            "justify_content": null,
            "justify_items": null,
            "left": null,
            "margin": null,
            "max_height": null,
            "max_width": null,
            "min_height": null,
            "min_width": null,
            "object_fit": null,
            "object_position": null,
            "order": null,
            "overflow": null,
            "overflow_x": null,
            "overflow_y": null,
            "padding": null,
            "right": null,
            "top": null,
            "visibility": null,
            "width": null
          }
        },
        "862d39ed4dd34a2e9783f44429c97eb4": {
          "model_module": "@jupyter-widgets/controls",
          "model_name": "ProgressStyleModel",
          "model_module_version": "1.5.0",
          "state": {
            "_model_module": "@jupyter-widgets/controls",
            "_model_module_version": "1.5.0",
            "_model_name": "ProgressStyleModel",
            "_view_count": null,
            "_view_module": "@jupyter-widgets/base",
            "_view_module_version": "1.2.0",
            "_view_name": "StyleView",
            "bar_color": null,
            "description_width": ""
          }
        },
        "230fdb9257134958a390b1cf5dd453b1": {
          "model_module": "@jupyter-widgets/base",
          "model_name": "LayoutModel",
          "model_module_version": "1.2.0",
          "state": {
            "_model_module": "@jupyter-widgets/base",
            "_model_module_version": "1.2.0",
            "_model_name": "LayoutModel",
            "_view_count": null,
            "_view_module": "@jupyter-widgets/base",
            "_view_module_version": "1.2.0",
            "_view_name": "LayoutView",
            "align_content": null,
            "align_items": null,
            "align_self": null,
            "border": null,
            "bottom": null,
            "display": null,
            "flex": null,
            "flex_flow": null,
            "grid_area": null,
            "grid_auto_columns": null,
            "grid_auto_flow": null,
            "grid_auto_rows": null,
            "grid_column": null,
            "grid_gap": null,
            "grid_row": null,
            "grid_template_areas": null,
            "grid_template_columns": null,
            "grid_template_rows": null,
            "height": null,
            "justify_content": null,
            "justify_items": null,
            "left": null,
            "margin": null,
            "max_height": null,
            "max_width": null,
            "min_height": null,
            "min_width": null,
            "object_fit": null,
            "object_position": null,
            "order": null,
            "overflow": null,
            "overflow_x": null,
            "overflow_y": null,
            "padding": null,
            "right": null,
            "top": null,
            "visibility": null,
            "width": null
          }
        },
        "89847671890147c5acff6830c5f9453c": {
          "model_module": "@jupyter-widgets/controls",
          "model_name": "DescriptionStyleModel",
          "model_module_version": "1.5.0",
          "state": {
            "_model_module": "@jupyter-widgets/controls",
            "_model_module_version": "1.5.0",
            "_model_name": "DescriptionStyleModel",
            "_view_count": null,
            "_view_module": "@jupyter-widgets/base",
            "_view_module_version": "1.2.0",
            "_view_name": "StyleView",
            "description_width": ""
          }
        },
        "a2fce0f375bd42f5b491457f17eeb370": {
          "model_module": "@jupyter-widgets/controls",
          "model_name": "HBoxModel",
          "model_module_version": "1.5.0",
          "state": {
            "_dom_classes": [],
            "_model_module": "@jupyter-widgets/controls",
            "_model_module_version": "1.5.0",
            "_model_name": "HBoxModel",
            "_view_count": null,
            "_view_module": "@jupyter-widgets/controls",
            "_view_module_version": "1.5.0",
            "_view_name": "HBoxView",
            "box_style": "",
            "children": [
              "IPY_MODEL_84aeeb768b2c4f9e88adfbe7496e38a2",
              "IPY_MODEL_e421a31c74f2489483e178cab5755843",
              "IPY_MODEL_c0ea9e53e67449ce90cc03aa20a9c498"
            ],
            "layout": "IPY_MODEL_c7e3339ed9304065adea4b2eec20ff87"
          }
        },
        "84aeeb768b2c4f9e88adfbe7496e38a2": {
          "model_module": "@jupyter-widgets/controls",
          "model_name": "HTMLModel",
          "model_module_version": "1.5.0",
          "state": {
            "_dom_classes": [],
            "_model_module": "@jupyter-widgets/controls",
            "_model_module_version": "1.5.0",
            "_model_name": "HTMLModel",
            "_view_count": null,
            "_view_module": "@jupyter-widgets/controls",
            "_view_module_version": "1.5.0",
            "_view_name": "HTMLView",
            "description": "",
            "description_tooltip": null,
            "layout": "IPY_MODEL_c4da6bdca41c40c6ba106afe9d4bab8c",
            "placeholder": "​",
            "style": "IPY_MODEL_27614aa80551437b96231a2741733716",
            "value": ""
          }
        },
        "e421a31c74f2489483e178cab5755843": {
          "model_module": "@jupyter-widgets/controls",
          "model_name": "FloatProgressModel",
          "model_module_version": "1.5.0",
          "state": {
            "_dom_classes": [],
            "_model_module": "@jupyter-widgets/controls",
            "_model_module_version": "1.5.0",
            "_model_name": "FloatProgressModel",
            "_view_count": null,
            "_view_module": "@jupyter-widgets/controls",
            "_view_module_version": "1.5.0",
            "_view_name": "ProgressView",
            "bar_style": "success",
            "description": "",
            "description_tooltip": null,
            "layout": "IPY_MODEL_a27cdc4e33ff4d15b2235df83722bdf9",
            "max": 170498071,
            "min": 0,
            "orientation": "horizontal",
            "style": "IPY_MODEL_5bba4912a21b49899512ca60b3d19b83",
            "value": 170498071
          }
        },
        "c0ea9e53e67449ce90cc03aa20a9c498": {
          "model_module": "@jupyter-widgets/controls",
          "model_name": "HTMLModel",
          "model_module_version": "1.5.0",
          "state": {
            "_dom_classes": [],
            "_model_module": "@jupyter-widgets/controls",
            "_model_module_version": "1.5.0",
            "_model_name": "HTMLModel",
            "_view_count": null,
            "_view_module": "@jupyter-widgets/controls",
            "_view_module_version": "1.5.0",
            "_view_name": "HTMLView",
            "description": "",
            "description_tooltip": null,
            "layout": "IPY_MODEL_d57dffbed562420996dc46eb31a18101",
            "placeholder": "​",
            "style": "IPY_MODEL_c1a9594d979440548670776427e7ccfa",
            "value": " 170499072/? [00:05&lt;00:00, 39859254.25it/s]"
          }
        },
        "c7e3339ed9304065adea4b2eec20ff87": {
          "model_module": "@jupyter-widgets/base",
          "model_name": "LayoutModel",
          "model_module_version": "1.2.0",
          "state": {
            "_model_module": "@jupyter-widgets/base",
            "_model_module_version": "1.2.0",
            "_model_name": "LayoutModel",
            "_view_count": null,
            "_view_module": "@jupyter-widgets/base",
            "_view_module_version": "1.2.0",
            "_view_name": "LayoutView",
            "align_content": null,
            "align_items": null,
            "align_self": null,
            "border": null,
            "bottom": null,
            "display": null,
            "flex": null,
            "flex_flow": null,
            "grid_area": null,
            "grid_auto_columns": null,
            "grid_auto_flow": null,
            "grid_auto_rows": null,
            "grid_column": null,
            "grid_gap": null,
            "grid_row": null,
            "grid_template_areas": null,
            "grid_template_columns": null,
            "grid_template_rows": null,
            "height": null,
            "justify_content": null,
            "justify_items": null,
            "left": null,
            "margin": null,
            "max_height": null,
            "max_width": null,
            "min_height": null,
            "min_width": null,
            "object_fit": null,
            "object_position": null,
            "order": null,
            "overflow": null,
            "overflow_x": null,
            "overflow_y": null,
            "padding": null,
            "right": null,
            "top": null,
            "visibility": null,
            "width": null
          }
        },
        "c4da6bdca41c40c6ba106afe9d4bab8c": {
          "model_module": "@jupyter-widgets/base",
          "model_name": "LayoutModel",
          "model_module_version": "1.2.0",
          "state": {
            "_model_module": "@jupyter-widgets/base",
            "_model_module_version": "1.2.0",
            "_model_name": "LayoutModel",
            "_view_count": null,
            "_view_module": "@jupyter-widgets/base",
            "_view_module_version": "1.2.0",
            "_view_name": "LayoutView",
            "align_content": null,
            "align_items": null,
            "align_self": null,
            "border": null,
            "bottom": null,
            "display": null,
            "flex": null,
            "flex_flow": null,
            "grid_area": null,
            "grid_auto_columns": null,
            "grid_auto_flow": null,
            "grid_auto_rows": null,
            "grid_column": null,
            "grid_gap": null,
            "grid_row": null,
            "grid_template_areas": null,
            "grid_template_columns": null,
            "grid_template_rows": null,
            "height": null,
            "justify_content": null,
            "justify_items": null,
            "left": null,
            "margin": null,
            "max_height": null,
            "max_width": null,
            "min_height": null,
            "min_width": null,
            "object_fit": null,
            "object_position": null,
            "order": null,
            "overflow": null,
            "overflow_x": null,
            "overflow_y": null,
            "padding": null,
            "right": null,
            "top": null,
            "visibility": null,
            "width": null
          }
        },
        "27614aa80551437b96231a2741733716": {
          "model_module": "@jupyter-widgets/controls",
          "model_name": "DescriptionStyleModel",
          "model_module_version": "1.5.0",
          "state": {
            "_model_module": "@jupyter-widgets/controls",
            "_model_module_version": "1.5.0",
            "_model_name": "DescriptionStyleModel",
            "_view_count": null,
            "_view_module": "@jupyter-widgets/base",
            "_view_module_version": "1.2.0",
            "_view_name": "StyleView",
            "description_width": ""
          }
        },
        "a27cdc4e33ff4d15b2235df83722bdf9": {
          "model_module": "@jupyter-widgets/base",
          "model_name": "LayoutModel",
          "model_module_version": "1.2.0",
          "state": {
            "_model_module": "@jupyter-widgets/base",
            "_model_module_version": "1.2.0",
            "_model_name": "LayoutModel",
            "_view_count": null,
            "_view_module": "@jupyter-widgets/base",
            "_view_module_version": "1.2.0",
            "_view_name": "LayoutView",
            "align_content": null,
            "align_items": null,
            "align_self": null,
            "border": null,
            "bottom": null,
            "display": null,
            "flex": null,
            "flex_flow": null,
            "grid_area": null,
            "grid_auto_columns": null,
            "grid_auto_flow": null,
            "grid_auto_rows": null,
            "grid_column": null,
            "grid_gap": null,
            "grid_row": null,
            "grid_template_areas": null,
            "grid_template_columns": null,
            "grid_template_rows": null,
            "height": null,
            "justify_content": null,
            "justify_items": null,
            "left": null,
            "margin": null,
            "max_height": null,
            "max_width": null,
            "min_height": null,
            "min_width": null,
            "object_fit": null,
            "object_position": null,
            "order": null,
            "overflow": null,
            "overflow_x": null,
            "overflow_y": null,
            "padding": null,
            "right": null,
            "top": null,
            "visibility": null,
            "width": null
          }
        },
        "5bba4912a21b49899512ca60b3d19b83": {
          "model_module": "@jupyter-widgets/controls",
          "model_name": "ProgressStyleModel",
          "model_module_version": "1.5.0",
          "state": {
            "_model_module": "@jupyter-widgets/controls",
            "_model_module_version": "1.5.0",
            "_model_name": "ProgressStyleModel",
            "_view_count": null,
            "_view_module": "@jupyter-widgets/base",
            "_view_module_version": "1.2.0",
            "_view_name": "StyleView",
            "bar_color": null,
            "description_width": ""
          }
        },
        "d57dffbed562420996dc46eb31a18101": {
          "model_module": "@jupyter-widgets/base",
          "model_name": "LayoutModel",
          "model_module_version": "1.2.0",
          "state": {
            "_model_module": "@jupyter-widgets/base",
            "_model_module_version": "1.2.0",
            "_model_name": "LayoutModel",
            "_view_count": null,
            "_view_module": "@jupyter-widgets/base",
            "_view_module_version": "1.2.0",
            "_view_name": "LayoutView",
            "align_content": null,
            "align_items": null,
            "align_self": null,
            "border": null,
            "bottom": null,
            "display": null,
            "flex": null,
            "flex_flow": null,
            "grid_area": null,
            "grid_auto_columns": null,
            "grid_auto_flow": null,
            "grid_auto_rows": null,
            "grid_column": null,
            "grid_gap": null,
            "grid_row": null,
            "grid_template_areas": null,
            "grid_template_columns": null,
            "grid_template_rows": null,
            "height": null,
            "justify_content": null,
            "justify_items": null,
            "left": null,
            "margin": null,
            "max_height": null,
            "max_width": null,
            "min_height": null,
            "min_width": null,
            "object_fit": null,
            "object_position": null,
            "order": null,
            "overflow": null,
            "overflow_x": null,
            "overflow_y": null,
            "padding": null,
            "right": null,
            "top": null,
            "visibility": null,
            "width": null
          }
        },
        "c1a9594d979440548670776427e7ccfa": {
          "model_module": "@jupyter-widgets/controls",
          "model_name": "DescriptionStyleModel",
          "model_module_version": "1.5.0",
          "state": {
            "_model_module": "@jupyter-widgets/controls",
            "_model_module_version": "1.5.0",
            "_model_name": "DescriptionStyleModel",
            "_view_count": null,
            "_view_module": "@jupyter-widgets/base",
            "_view_module_version": "1.2.0",
            "_view_name": "StyleView",
            "description_width": ""
          }
        }
      }
    }
  },
  "cells": [
    {
      "cell_type": "markdown",
      "metadata": {
        "id": "view-in-github",
        "colab_type": "text"
      },
      "source": [
        "<a href=\"https://colab.research.google.com/github/JoseMauricioBazagoitiaAyllon/Inteligencia-Artificial-II/blob/main/BarlowTwins.ipynb\" target=\"_parent\"><img src=\"https://colab.research.google.com/assets/colab-badge.svg\" alt=\"Open In Colab\"/></a>"
      ]
    },
    {
      "cell_type": "markdown",
      "source": [
        "# *Self-Supervised Learning*"
      ],
      "metadata": {
        "id": "2uhzHMHmbiJN"
      }
    },
    {
      "cell_type": "markdown",
      "source": [
        "Para tener claro este concepto se necesita poner claro los tipos de aprendizaje que son dos el aprendisaje supervisado y el aprendisaje no supervisado.\n",
        "\n",
        "![](https://miro.medium.com/max/4416/1*bvMhd_xpVxfJYoKXYp5hug.png)\n",
        "\n",
        "Dependiendo de los datos disponibles y la tarea que queramos abordar, podemos elegir entre distintos tipos de aprendizaje. Estos son: aprendizaje supervisado, aprendizaje no supervisado, aprendizaje semi-supervisado y aprendizaje por refuerzo.\n",
        "\n",
        "* Aprendizaje supervisado \n",
        "El aprendizaje supervisado necesita conjuntos de datos etiquetados, es decir, le decimos al modelo qué es lo que queremos que aprenda, y basandonos en los resultados conseguimos podemos modificar los parametros para mejorar el modelo..\n",
        "Dependiendo del tipo de etiqueta, dentro del aprendizaje supervisado existen dos tipos de modelos: \n",
        "-Modelos de clasificacion\n",
        "-Modelos de regrecion\n",
        "* Aprendizaje no supervisado \n",
        "El aprendizaje no supervisado trabaja con datos que no han sido etiquetados. No tenemos una etiqueta que predecir. Estos algoritmos se usan principalmente en tareas donde es necesario analizar los datos para extraer nuevo conocimiento o agrupar entidades por afinidad.\n",
        "* Aprendizaje semi-supervisado \n",
        "Este tipo de aprendizaje tiene un poco de los dos anteriores. Usando este enfoque, se comienza etiquetando manualmente algunos datos. Una vez tenemos una pequeña porción de datos etiquetados, entrenamos uno o varios algoritmos de aprendizaje supervisado sobre esa pequeña parte de datos etiquetados y utilizamos los modelos resultantes del entrenamiento para etiquetar el resto de datos.\n",
        "* Aprendizaje por refuerzo \n",
        "el aprendizaje por refuerzo es un método de aprendizaje automático que se basa en recompensar los comportamientos deseados y penalizar los no deseados.\n",
        "Para profundizar los contextos podria vistar el proximo enlace https://datos.gob.es/es/blog/como-aprenden-las-maquinas-machine-learning-y-sus-diferentes-tipos\n",
        "\n"
      ],
      "metadata": {
        "id": "YGcvtTDVbpb_"
      }
    },
    {
      "cell_type": "markdown",
      "source": [
        "# *Barlow Twins*"
      ],
      "metadata": {
        "id": "F6fvQw2bDAFM"
      }
    },
    {
      "cell_type": "markdown",
      "source": [
        "![](https://user-images.githubusercontent.com/14848164/120419539-b0fab900-c330-11eb-8536-126ce6ce7b85.png)\n",
        "Pra explicar este modelo esta imagen sera de mucha ayuda, \n",
        "en un principio se cuenta un dataset con imagenes sin etiquetaslo cul lo vuelve un modelo de aprendizaje no supervisado, como no se cuenta con etiquetas para medir la perdida este modelo obta por realizar un copia de de los datos, pero esta cpia no sera identica sino constara de de transformaciones laws cuales nos permitira contar con dos caminos que compara.\n",
        "Esta imagenes que ya cuentan con la transformacion la yamaremos Y^A y Y^B.\n",
        "cada una de estas imagenes serviran como entrada a para los distintos entrenamiento esto nos lanzara valores para cada dataSet que los de nominaremos embeddings estos enbeddings seran compparadas de nuevo para conseguir lo mas parecido a una matris identidad mediante una funcion denominada Empirical cross-correlation.\n",
        "danto los resultados finales.\n",
        "Para un mayor entendimiento contaremos con 2 ejemplos\n",
        "https://github.com/facebookresearch/barlowtwins \n",
        "Ejemplo Git Hub\n",
        "https://colab.research.google.com/github/juansensio/blog/blob/master/066_ssl/ssl.ipynb\n",
        "Ejemplo de Sensio\n",
        "\n",
        "y por ultimo una edicion del cuadernillo de sensio comentado\n"
      ],
      "metadata": {
        "id": "rgLNiuLIVOPL"
      }
    },
    {
      "cell_type": "code",
      "source": [
        "import torch\n",
        "import torchvision\n",
        "import numpy as np\n",
        "\n",
        "class Dataset(torch.utils.data.Dataset):\n",
        "    def __init__(self, train=True):\n",
        "        trainset = torchvision.datasets.CIFAR10(root='./data', train=train, download=True)\n",
        "        self.classes = ('plane', 'car', 'bird', 'cat', 'deer', 'dog', 'frog', 'horse', 'ship', 'truck')\n",
        "        self.imgs, self.labels = np.array([np.array(i[0]) for i in trainset]), np.array([i[1] for i in trainset])\n",
        "    def __len__(self):\n",
        "        return len(self.imgs)\n",
        "    def __getitem__(self, ix):\n",
        "        img = self.imgs[ix]\n",
        "        return torch.from_numpy(img / 255.).permute(2,0,1).float(), torch.tensor(self.labels[ix]).long()"
      ],
      "metadata": {
        "id": "iQzHTGKfdmlu"
      },
      "execution_count": null,
      "outputs": []
    },
    {
      "cell_type": "code",
      "source": [
        "ds = {\n",
        "    'train': Dataset(),\n",
        "    'test': Dataset(train=False)\n",
        "}\n",
        "\n",
        "ds['train'].imgs.shape, ds['test'].imgs.shape, "
      ],
      "metadata": {
        "colab": {
          "base_uri": "https://localhost:8080/",
          "height": 118,
          "referenced_widgets": [
            "a2fce0f375bd42f5b491457f17eeb370",
            "84aeeb768b2c4f9e88adfbe7496e38a2",
            "e421a31c74f2489483e178cab5755843",
            "c0ea9e53e67449ce90cc03aa20a9c498",
            "c7e3339ed9304065adea4b2eec20ff87",
            "c4da6bdca41c40c6ba106afe9d4bab8c",
            "27614aa80551437b96231a2741733716",
            "a27cdc4e33ff4d15b2235df83722bdf9",
            "5bba4912a21b49899512ca60b3d19b83",
            "d57dffbed562420996dc46eb31a18101",
            "c1a9594d979440548670776427e7ccfa"
          ]
        },
        "id": "HLwvotoddrY2",
        "outputId": "37454d64-5f55-4134-f51c-d944d1defc70"
      },
      "execution_count": null,
      "outputs": [
        {
          "output_type": "stream",
          "name": "stdout",
          "text": [
            "Downloading https://www.cs.toronto.edu/~kriz/cifar-10-python.tar.gz to ./data/cifar-10-python.tar.gz\n"
          ]
        },
        {
          "output_type": "display_data",
          "data": {
            "text/plain": [
              "  0%|          | 0/170498071 [00:00<?, ?it/s]"
            ],
            "application/vnd.jupyter.widget-view+json": {
              "version_major": 2,
              "version_minor": 0,
              "model_id": "a2fce0f375bd42f5b491457f17eeb370"
            }
          },
          "metadata": {}
        },
        {
          "output_type": "stream",
          "name": "stdout",
          "text": [
            "Extracting ./data/cifar-10-python.tar.gz to ./data\n",
            "Files already downloaded and verified\n"
          ]
        },
        {
          "output_type": "execute_result",
          "data": {
            "text/plain": [
              "((50000, 32, 32, 3), (10000, 32, 32, 3))"
            ]
          },
          "metadata": {},
          "execution_count": 3
        }
      ]
    },
    {
      "cell_type": "code",
      "source": [
        "batch_size = 1024\n",
        "num_workers = 24\n",
        "dl = {\n",
        "    'train': torch.utils.data.DataLoader(ds['train'], batch_size=batch_size, shuffle=True, num_workers=num_workers),\n",
        "    'test': torch.utils.data.DataLoader(ds['test'], batch_size=batch_size, shuffle=False, num_workers=num_workers)\n",
        "} "
      ],
      "metadata": {
        "colab": {
          "base_uri": "https://localhost:8080/"
        },
        "id": "ymmZIqHPdvRz",
        "outputId": "381bff5e-7d29-4e3a-cae4-00ba7f02bad3"
      },
      "execution_count": null,
      "outputs": [
        {
          "output_type": "stream",
          "name": "stderr",
          "text": [
            "/usr/local/lib/python3.7/dist-packages/torch/utils/data/dataloader.py:490: UserWarning: This DataLoader will create 24 worker processes in total. Our suggested max number of worker in current system is 2, which is smaller than what this DataLoader is going to create. Please be aware that excessive worker creation might get DataLoader running slow or even freeze, lower the worker number to avoid potential slowness/freeze if necessary.\n",
            "  cpuset_checked))\n"
          ]
        }
      ]
    },
    {
      "cell_type": "code",
      "source": [
        "imgs, labels = next(iter(dl['train']))\n",
        "imgs.shape, labels.shape"
      ],
      "metadata": {
        "colab": {
          "base_uri": "https://localhost:8080/"
        },
        "id": "86euDzPUdxYj",
        "outputId": "d49d7b64-a133-4c0f-adca-c2f3f53cce91"
      },
      "execution_count": null,
      "outputs": [
        {
          "output_type": "stream",
          "name": "stderr",
          "text": [
            "/usr/local/lib/python3.7/dist-packages/torch/utils/data/dataloader.py:490: UserWarning: This DataLoader will create 24 worker processes in total. Our suggested max number of worker in current system is 2, which is smaller than what this DataLoader is going to create. Please be aware that excessive worker creation might get DataLoader running slow or even freeze, lower the worker number to avoid potential slowness/freeze if necessary.\n",
            "  cpuset_checked))\n"
          ]
        },
        {
          "output_type": "execute_result",
          "data": {
            "text/plain": [
              "(torch.Size([1024, 3, 32, 32]), torch.Size([1024]))"
            ]
          },
          "metadata": {},
          "execution_count": 5
        }
      ]
    },
    {
      "cell_type": "code",
      "source": [
        "import matplotlib.pyplot as plt\n",
        "\n",
        "fig = plt.figure(dpi=200)\n",
        "c, r = 6, 4\n",
        "for j in range(r):\n",
        "    for i in range(c):\n",
        "        ix = j*c + i\n",
        "        ax = plt.subplot(r, c, ix + 1)\n",
        "        img, label = imgs[ix], labels[ix]\n",
        "        ax.imshow(img.permute(1,2,0))\n",
        "        ax.axis('off')\n",
        "plt.tight_layout()\n",
        "plt.show()"
      ],
      "metadata": {
        "colab": {
          "base_uri": "https://localhost:8080/",
          "height": 797
        },
        "id": "IcM86z1LdzgM",
        "outputId": "a058078c-26d9-477e-acb8-d39fdbafcbdc"
      },
      "execution_count": null,
      "outputs": [
        {
          "output_type": "display_data",
          "data": {
            "text/plain": [
              "<Figure size 1200x800 with 24 Axes>"
            ],
            "image/png": "[encoded data removed]"
          },
          "metadata": {
            "needs_background": "light"
          }
        }
      ]
    },
    {
      "cell_type": "code",
      "source": [
        "import torch.nn.functional as F\n",
        "class Model(torch.nn.Module):\n",
        "\n",
        "    def __init__(self, n_outputs=10, pretrained=False):\n",
        "        super().__init__()\n",
        "        self.backbone = torch.nn.Sequential(*list(torchvision.models.resnet18(pretrained=pretrained).children())[:-1])\n",
        "        if pretrained:\n",
        "            for param in self.backbone.parameters():\n",
        "                param.requires_grad = False\n",
        "        self.head = torch.nn.Sequential(\n",
        "            torch.nn.Flatten(),\n",
        "            torch.nn.Linear(512, n_outputs)\n",
        "        )\n",
        "\n",
        "    def forward(self, x):\n",
        "        x = self.backbone(x)\n",
        "        x = self.head(x)\n",
        "        return x"
      ],
      "metadata": {
        "id": "-APu6MMFd2h8"
      },
      "execution_count": null,
      "outputs": []
    },
    {
      "cell_type": "code",
      "source": [
        "model = Model()\n",
        "output = model(torch.randn(32, 3, 32, 32))\n",
        "\n",
        "output.shape"
      ],
      "metadata": {
        "colab": {
          "base_uri": "https://localhost:8080/"
        },
        "id": "jZG8V0tnd4lG",
        "outputId": "9a5270b2-71f6-4fbc-8c69-0c0f93b2bb58"
      },
      "execution_count": null,
      "outputs": [
        {
          "output_type": "execute_result",
          "data": {
            "text/plain": [
              "torch.Size([32, 10])"
            ]
          },
          "metadata": {},
          "execution_count": 8
        }
      ]
    },
    {
      "cell_type": "code",
      "source": [
        "from tqdm import tqdm \n",
        "\n",
        "def step(model, batch, device):\n",
        "    x, y = batch\n",
        "    x, y = x.to(device), y.to(device)\n",
        "    y_hat = model(x)\n",
        "    loss = F.cross_entropy(y_hat, y)\n",
        "    acc = (torch.argmax(y_hat, axis=1) == y).sum().item() / y.size(0)\n",
        "    return loss, acc\n",
        "\n",
        "def train(model, dl, optimizer, epochs=10, device=\"cuda\"):\n",
        "    #model.to(device)\n",
        "    hist = {'loss': [], 'acc': [], 'test_loss': [], 'test_acc': []}\n",
        "    for e in range(1, epochs+1):\n",
        "        # train\n",
        "        model.train()\n",
        "        l, a = [], []\n",
        "        bar = tqdm(dl['train'])\n",
        "        for batch in bar:\n",
        "            optimizer.zero_grad()\n",
        "            loss, acc = step(model, batch, device)\n",
        "            loss.backward()\n",
        "            optimizer.step()\n",
        "            l.append(loss.item())\n",
        "            a.append(acc)\n",
        "            bar.set_description(f\"training... loss {np.mean(l):.4f} acc {np.mean(a):.4f}\")\n",
        "        hist['loss'].append(np.mean(l))\n",
        "        hist['acc'].append(np.mean(a))\n",
        "        # eval\n",
        "        model.eval()\n",
        "        l, a = [], []\n",
        "        bar = tqdm(dl['test'])\n",
        "        with torch.no_grad():\n",
        "            for batch in bar:\n",
        "                loss, acc = step(model, batch, device)\n",
        "                l.append(loss.item())\n",
        "                a.append(acc)\n",
        "                bar.set_description(f\"testing... loss {np.mean(l):.4f} acc {np.mean(a):.4f}\")\n",
        "        hist['test_loss'].append(np.mean(l))\n",
        "        hist['test_acc'].append(np.mean(a))\n",
        "        # log\n",
        "        log = f'Epoch {e}/{epochs}'\n",
        "        for k, v in hist.items():\n",
        "            log += f' {k} {v[-1]:.4f}'\n",
        "        print(log)\n",
        "    return hist"
      ],
      "metadata": {
        "id": "20aUTGq9d7fd"
      },
      "execution_count": null,
      "outputs": []
    },
    {
      "cell_type": "code",
      "source": [
        "model = Model()\n",
        "optimizer = torch.optim.Adam(model.parameters(), lr=1e-3)\n",
        "\n",
        "hist = train(model, dl, optimizer, epochs=3)"
      ],
      "metadata": {
        "colab": {
          "base_uri": "https://localhost:8080/"
        },
        "id": "j5RDDXwCd90l",
        "outputId": "7e564515-f67d-49d3-ae17-dbdd1de4e043"
      },
      "execution_count": null,
      "outputs": [
        {
          "output_type": "stream",
          "name": "stderr",
          "text": [
            "\r  0%|          | 0/49 [00:00<?, ?it/s]/usr/local/lib/python3.7/dist-packages/torch/utils/data/dataloader.py:490: UserWarning: This DataLoader will create 24 worker processes in total. Our suggested max number of worker in current system is 2, which is smaller than what this DataLoader is going to create. Please be aware that excessive worker creation might get DataLoader running slow or even freeze, lower the worker number to avoid potential slowness/freeze if necessary.\n",
            "  cpuset_checked))\n"
          ]
        }
      ]
    },
    {
      "cell_type": "code",
      "source": [
        "import pandas as pd\n",
        "\n",
        "def plot_hist(hist):\n",
        "    fig = plt.figure(figsize=(10, 3), dpi=100)\n",
        "    df = pd.DataFrame(hist)\n",
        "    ax = plt.subplot(1, 2, 1)\n",
        "    df[['loss', 'test_loss']].plot(ax=ax)\n",
        "    ax.grid(True)\n",
        "    ax = plt.subplot(1, 2, 2)\n",
        "    df[['acc', 'test_acc']].plot(ax=ax)\n",
        "    ax.grid(True)\n",
        "    plt.show()"
      ],
      "metadata": {
        "id": "sRAM_NldeKG9"
      },
      "execution_count": null,
      "outputs": []
    },
    {
      "cell_type": "code",
      "source": [
        "plot_hist(hist)"
      ],
      "metadata": {
        "colab": {
          "base_uri": "https://localhost:8080/",
          "height": 287
        },
        "id": "94FtkVyMem_p",
        "outputId": "b5cddde4-0baa-4c54-8174-16c57e0a6803"
      },
      "execution_count": null,
      "outputs": [
        {
          "output_type": "display_data",
          "data": {
            "text/plain": [
              "<Figure size 1000x300 with 2 Axes>"
            ],
            "image/png": "[encoded data removed]"
          },
          "metadata": {
            "needs_background": "light"
          }
        }
      ]
    },
    {
      "cell_type": "code",
      "source": [
        "class Dataset(torch.utils.data.Dataset):\n",
        "    def __init__(self, train=True, pctg=1.):\n",
        "        trainset = torchvision.datasets.CIFAR10(root='./data', train=train, download=True)\n",
        "        self.classes = ('plane', 'car', 'bird', 'cat', 'deer', 'dog', 'frog', 'horse', 'ship', 'truck')\n",
        "        self.imgs, self.labels = np.array([np.array(i[0]) for i in trainset]), np.array([i[1] for i in trainset])\n",
        "        if pctg < 1.:\n",
        "            unique_labels = list(range(len(self.classes)))\n",
        "            filtered_imgs, filtered_labels = [], []\n",
        "            for lab in unique_labels:\n",
        "                ixs = (self.labels == lab)\n",
        "                lim = int(ixs.sum()*pctg)\n",
        "                filtered_imgs += self.imgs[ixs][:lim].tolist()\n",
        "                filtered_labels += self.labels[ixs][:lim].tolist()\n",
        "            self.imgs, self.labels = np.array(filtered_imgs), np.array(filtered_labels)        \n",
        "    def __len__(self):\n",
        "        return len(self.imgs)\n",
        "    def __getitem__(self, ix):\n",
        "        img = self.imgs[ix]\n",
        "        return torch.from_numpy(img / 255.).permute(2,0,1).float(), torch.tensor(self.labels[ix]).long()"
      ],
      "metadata": {
        "id": "Pwa5wN2YerWl"
      },
      "execution_count": null,
      "outputs": []
    },
    {
      "cell_type": "code",
      "source": [
        "ds = {\n",
        "    'train': Dataset(pctg=0.01),\n",
        "    'test': Dataset(train=False)\n",
        "}"
      ],
      "metadata": {
        "colab": {
          "base_uri": "https://localhost:8080/"
        },
        "id": "2OOkr2Chey-7",
        "outputId": "31a7caa7-7ec5-4e83-b926-7eca917b0b96"
      },
      "execution_count": null,
      "outputs": [
        {
          "output_type": "stream",
          "name": "stdout",
          "text": [
            "Files already downloaded and verified\n",
            "Files already downloaded and verified\n"
          ]
        }
      ]
    },
    {
      "cell_type": "code",
      "source": [
        "fig, ax = plt.subplots(dpi=50)\n",
        "ax.hist(ds['train'].labels, bins=10)\n",
        "plt.show()"
      ],
      "metadata": {
        "colab": {
          "base_uri": "https://localhost:8080/",
          "height": 188
        },
        "id": "JerdDSx0e0ic",
        "outputId": "4190ccc7-a0ab-4623-8ee1-dbed68b80dc6"
      },
      "execution_count": null,
      "outputs": [
        {
          "output_type": "display_data",
          "data": {
            "text/plain": [
              "<Figure size 300x200 with 1 Axes>"
            ],
            "image/png": "[encoded data removed]"
          },
          "metadata": {
            "needs_background": "light"
          }
        }
      ]
    },
    {
      "cell_type": "code",
      "source": [
        "pctgs = [0.01, 0.1, 1.]\n",
        "batch_size = 1024\n",
        "epochs=3\n",
        "lr=1e-3\n",
        "hists = []\n",
        "for pctg in pctgs:\n",
        "    ds = {\n",
        "        'train': Dataset(pctg=pctg),\n",
        "        'test': Dataset(train=False)\n",
        "    }\n",
        "    dl = {\n",
        "        'train': torch.utils.data.DataLoader(ds['train'], batch_size=batch_size, shuffle=True, num_workers=num_workers),\n",
        "        'test': torch.utils.data.DataLoader(ds['test'], batch_size=batch_size, shuffle=False, num_workers=num_workers)\n",
        "    } \n",
        "    model = Model()\n",
        "    optimizer = torch.optim.Adam(model.parameters(), lr=lr)\n",
        "    hist = train(model, dl, optimizer, epochs=epochs)\n",
        "    hists.append(hist)"
      ],
      "metadata": {
        "colab": {
          "base_uri": "https://localhost:8080/"
        },
        "id": "GNhaRcNve7OH",
        "outputId": "77c40a6f-4f52-4698-f74b-fbc12e906ab4"
      },
      "execution_count": null,
      "outputs": [
        {
          "output_type": "stream",
          "name": "stdout",
          "text": [
            "Files already downloaded and verified\n",
            "Files already downloaded and verified\n"
          ]
        },
        {
          "output_type": "stream",
          "name": "stderr",
          "text": [
            "/usr/local/lib/python3.7/dist-packages/torch/utils/data/dataloader.py:490: UserWarning: This DataLoader will create 24 worker processes in total. Our suggested max number of worker in current system is 2, which is smaller than what this DataLoader is going to create. Please be aware that excessive worker creation might get DataLoader running slow or even freeze, lower the worker number to avoid potential slowness/freeze if necessary.\n",
            "  cpuset_checked))\n",
            "training... loss 2.4728 acc 0.1040: 100%|██████████| 1/1 [00:01<00:00,  1.50s/it]\n",
            "testing... loss 2.2890 acc 0.1359: 100%|██████████| 10/10 [00:02<00:00,  4.08it/s]\n"
          ]
        },
        {
          "output_type": "stream",
          "name": "stdout",
          "text": [
            "Epoch 1/3 loss 2.4728 acc 0.1040 test_loss 2.2890 test_acc 0.1359\n"
          ]
        },
        {
          "output_type": "stream",
          "name": "stderr",
          "text": [
            "training... loss 1.5275 acc 0.5220: 100%|██████████| 1/1 [00:01<00:00,  1.48s/it]\n",
            "testing... loss 2.2970 acc 0.0993: 100%|██████████| 10/10 [00:02<00:00,  4.05it/s]\n"
          ]
        },
        {
          "output_type": "stream",
          "name": "stdout",
          "text": [
            "Epoch 2/3 loss 1.5275 acc 0.5220 test_loss 2.2970 test_acc 0.0993\n"
          ]
        },
        {
          "output_type": "stream",
          "name": "stderr",
          "text": [
            "training... loss 0.8939 acc 0.8120: 100%|██████████| 1/1 [00:01<00:00,  1.51s/it]\n",
            "testing... loss 2.3025 acc 0.1015: 100%|██████████| 10/10 [00:02<00:00,  4.00it/s]\n"
          ]
        },
        {
          "output_type": "stream",
          "name": "stdout",
          "text": [
            "Epoch 3/3 loss 0.8939 acc 0.8120 test_loss 2.3025 test_acc 0.1015\n",
            "Files already downloaded and verified\n",
            "Files already downloaded and verified\n"
          ]
        },
        {
          "output_type": "stream",
          "name": "stderr",
          "text": [
            "training... loss 2.2012 acc 0.2349: 100%|██████████| 5/5 [00:02<00:00,  2.08it/s]\n",
            "testing... loss 2.3550 acc 0.1114: 100%|██████████| 10/10 [00:02<00:00,  4.11it/s]\n"
          ]
        },
        {
          "output_type": "stream",
          "name": "stdout",
          "text": [
            "Epoch 1/3 loss 2.2012 acc 0.2349 test_loss 2.3550 test_acc 0.1114\n"
          ]
        },
        {
          "output_type": "stream",
          "name": "stderr",
          "text": [
            "training... loss 1.5138 acc 0.4615: 100%|██████████| 5/5 [00:02<00:00,  2.15it/s]\n",
            "testing... loss 2.5999 acc 0.1138: 100%|██████████| 10/10 [00:02<00:00,  3.97it/s]\n"
          ]
        },
        {
          "output_type": "stream",
          "name": "stdout",
          "text": [
            "Epoch 2/3 loss 1.5138 acc 0.4615 test_loss 2.5999 test_acc 0.1138\n"
          ]
        },
        {
          "output_type": "stream",
          "name": "stderr",
          "text": [
            "training... loss 1.1130 acc 0.6061: 100%|██████████| 5/5 [00:02<00:00,  2.12it/s]\n",
            "testing... loss 3.0446 acc 0.1171: 100%|██████████| 10/10 [00:02<00:00,  4.08it/s]\n"
          ]
        },
        {
          "output_type": "stream",
          "name": "stdout",
          "text": [
            "Epoch 3/3 loss 1.1130 acc 0.6061 test_loss 3.0446 test_acc 0.1171\n",
            "Files already downloaded and verified\n",
            "Files already downloaded and verified\n"
          ]
        },
        {
          "output_type": "stream",
          "name": "stderr",
          "text": [
            "training... loss 1.5028 acc 0.4590: 100%|██████████| 49/49 [00:09<00:00,  5.00it/s]\n",
            "testing... loss 2.0425 acc 0.3318: 100%|██████████| 10/10 [00:02<00:00,  4.24it/s]\n"
          ]
        },
        {
          "output_type": "stream",
          "name": "stdout",
          "text": [
            "Epoch 1/3 loss 1.5028 acc 0.4590 test_loss 2.0425 test_acc 0.3318\n"
          ]
        },
        {
          "output_type": "stream",
          "name": "stderr",
          "text": [
            "training... loss 1.0695 acc 0.6170: 100%|██████████| 49/49 [00:09<00:00,  4.95it/s]\n",
            "testing... loss 1.3250 acc 0.5435: 100%|██████████| 10/10 [00:02<00:00,  4.00it/s]\n"
          ]
        },
        {
          "output_type": "stream",
          "name": "stdout",
          "text": [
            "Epoch 2/3 loss 1.0695 acc 0.6170 test_loss 1.3250 test_acc 0.5435\n"
          ]
        },
        {
          "output_type": "stream",
          "name": "stderr",
          "text": [
            "training... loss 0.8591 acc 0.6940: 100%|██████████| 49/49 [00:09<00:00,  4.92it/s]\n",
            "testing... loss 1.1129 acc 0.6136: 100%|██████████| 10/10 [00:02<00:00,  4.11it/s]"
          ]
        },
        {
          "output_type": "stream",
          "name": "stdout",
          "text": [
            "Epoch 3/3 loss 0.8591 acc 0.6940 test_loss 1.1129 test_acc 0.6136\n"
          ]
        },
        {
          "output_type": "stream",
          "name": "stderr",
          "text": [
            "\n"
          ]
        }
      ]
    },
    {
      "cell_type": "code",
      "source": [
        "fig = plt.figure(figsize=(8, 3), dpi=100)\n",
        "ax = plt.subplot(1, 2, 1)\n",
        "for i, pctg in enumerate(pctgs):\n",
        "    ax.plot(hists[i]['test_loss'])\n",
        "ax.grid(True)\n",
        "ax.legend(pctgs)\n",
        "ax.set_title('loss')\n",
        "ax = plt.subplot(1, 2, 2)\n",
        "for i, pctg in enumerate(pctgs):\n",
        "    ax.plot(hists[i]['test_acc'])\n",
        "ax.grid(True)\n",
        "ax.set_title('acc')\n",
        "plt.tight_layout()\n",
        "plt.show()"
      ],
      "metadata": {
        "colab": {
          "base_uri": "https://localhost:8080/",
          "height": 307
        },
        "id": "3w1kxnDPfBsM",
        "outputId": "a0135072-bba3-43b3-df94-35925fae0492"
      },
      "execution_count": null,
      "outputs": [
        {
          "output_type": "display_data",
          "data": {
            "text/plain": [
              "<Figure size 800x300 with 2 Axes>"
            ],
            "image/png": "[encoded data removed]"
          },
          "metadata": {
            "needs_background": "light"
          }
        }
      ]
    },
    {
      "cell_type": "code",
      "source": [
        "hists = []\n",
        "for pctg in pctgs:\n",
        "    ds = {\n",
        "        'train': Dataset(pctg=pctg),\n",
        "        'test': Dataset(train=False)\n",
        "    }\n",
        "    dl = {\n",
        "        'train': torch.utils.data.DataLoader(ds['train'], batch_size=batch_size, shuffle=True, num_workers=num_workers),\n",
        "        'test': torch.utils.data.DataLoader(ds['test'], batch_size=batch_size, shuffle=False, num_workers=num_workers)\n",
        "    } \n",
        "    model = Model(pretrained=True)\n",
        "    optimizer = torch.optim.Adam(model.parameters(), lr=lr)\n",
        "    hist = train(model, dl, optimizer, epochs=epochs)\n",
        "    hists.append(hist)"
      ],
      "metadata": {
        "colab": {
          "base_uri": "https://localhost:8080/",
          "height": 694,
          "referenced_widgets": [
            "f9013f0e7d3441989e633b6468fcd9af",
            "948412cfd9a746b28f08021aaaa33bca",
            "7e3a3ad7c2ab427d8f12c147ba6ea64a",
            "43a8c284f2604a13b28b25a0e83e3d70",
            "85efe9267a63463dbc1ba5537c926fcf",
            "0007fb28492c46308d5852870bf576c0",
            "431ec97cc80f4827af48815befeb07e9",
            "cbf2d317f02e4d33a32fecc73f5c8e64",
            "862d39ed4dd34a2e9783f44429c97eb4",
            "230fdb9257134958a390b1cf5dd453b1",
            "89847671890147c5acff6830c5f9453c"
          ]
        },
        "id": "8B-FSWNKfUpF",
        "outputId": "5f25ec6a-a191-420c-f6d7-b20d9a247231"
      },
      "execution_count": null,
      "outputs": [
        {
          "output_type": "stream",
          "name": "stdout",
          "text": [
            "Files already downloaded and verified\n",
            "Files already downloaded and verified\n"
          ]
        },
        {
          "output_type": "stream",
          "name": "stderr",
          "text": [
            "/usr/local/lib/python3.7/dist-packages/torch/utils/data/dataloader.py:490: UserWarning: This DataLoader will create 24 worker processes in total. Our suggested max number of worker in current system is 2, which is smaller than what this DataLoader is going to create. Please be aware that excessive worker creation might get DataLoader running slow or even freeze, lower the worker number to avoid potential slowness/freeze if necessary.\n",
            "  cpuset_checked))\n",
            "Downloading: \"https://download.pytorch.org/models/resnet18-f37072fd.pth\" to /root/.cache/torch/hub/checkpoints/resnet18-f37072fd.pth\n"
          ]
        },
        {
          "output_type": "display_data",
          "data": {
            "text/plain": [
              "  0%|          | 0.00/44.7M [00:00<?, ?B/s]"
            ],
            "application/vnd.jupyter.widget-view+json": {
              "version_major": 2,
              "version_minor": 0,
              "model_id": "f9013f0e7d3441989e633b6468fcd9af"
            }
          },
          "metadata": {}
        },
        {
          "output_type": "stream",
          "name": "stderr",
          "text": [
            "training... loss 2.6576 acc 0.0940: 100%|██████████| 1/1 [00:01<00:00,  1.55s/it]\n",
            "testing... loss 2.3448 acc 0.0870: 100%|██████████| 10/10 [00:02<00:00,  4.00it/s]\n"
          ]
        },
        {
          "output_type": "stream",
          "name": "stdout",
          "text": [
            "Epoch 1/3 loss 2.6576 acc 0.0940 test_loss 2.3448 test_acc 0.0870\n"
          ]
        },
        {
          "output_type": "stream",
          "name": "stderr",
          "text": [
            "training... loss 2.5135 acc 0.1080: 100%|██████████| 1/1 [00:01<00:00,  1.56s/it]\n",
            "testing... loss 2.3248 acc 0.0932: 100%|██████████| 10/10 [00:02<00:00,  3.95it/s]\n"
          ]
        },
        {
          "output_type": "stream",
          "name": "stdout",
          "text": [
            "Epoch 2/3 loss 2.5135 acc 0.1080 test_loss 2.3248 test_acc 0.0932\n"
          ]
        },
        {
          "output_type": "stream",
          "name": "stderr",
          "text": [
            "training... loss 2.4283 acc 0.1180: 100%|██████████| 1/1 [00:01<00:00,  1.56s/it]\n",
            "testing... loss 2.3100 acc 0.1032: 100%|██████████| 10/10 [00:02<00:00,  3.94it/s]\n"
          ]
        },
        {
          "output_type": "stream",
          "name": "stdout",
          "text": [
            "Epoch 3/3 loss 2.4283 acc 0.1180 test_loss 2.3100 test_acc 0.1032\n",
            "Files already downloaded and verified\n",
            "Files already downloaded and verified\n"
          ]
        },
        {
          "output_type": "stream",
          "name": "stderr",
          "text": [
            "training... loss 2.4180 acc 0.1369: 100%|██████████| 5/5 [00:02<00:00,  2.44it/s]\n",
            "testing... loss 2.2580 acc 0.1734: 100%|██████████| 10/10 [00:02<00:00,  3.80it/s]\n"
          ]
        },
        {
          "output_type": "stream",
          "name": "stdout",
          "text": [
            "Epoch 1/3 loss 2.4180 acc 0.1369 test_loss 2.2580 test_acc 0.1734\n"
          ]
        },
        {
          "output_type": "stream",
          "name": "stderr",
          "text": [
            "training... loss 2.2305 acc 0.1965: 100%|██████████| 5/5 [00:01<00:00,  2.53it/s]\n",
            "testing... loss 2.1938 acc 0.2368: 100%|██████████| 10/10 [00:02<00:00,  3.86it/s]\n"
          ]
        },
        {
          "output_type": "stream",
          "name": "stdout",
          "text": [
            "Epoch 2/3 loss 2.2305 acc 0.1965 test_loss 2.1938 test_acc 0.2368\n"
          ]
        },
        {
          "output_type": "stream",
          "name": "stderr",
          "text": [
            "training... loss 2.0849 acc 0.2526: 100%|██████████| 5/5 [00:01<00:00,  2.57it/s]\n",
            "testing... loss 2.1268 acc 0.2782: 100%|██████████| 10/10 [00:02<00:00,  3.81it/s]\n"
          ]
        },
        {
          "output_type": "stream",
          "name": "stdout",
          "text": [
            "Epoch 3/3 loss 2.0849 acc 0.2526 test_loss 2.1268 test_acc 0.2782\n",
            "Files already downloaded and verified\n",
            "Files already downloaded and verified\n"
          ]
        },
        {
          "output_type": "stream",
          "name": "stderr",
          "text": [
            "training... loss 2.0325 acc 0.2850: 100%|██████████| 49/49 [00:05<00:00,  8.42it/s]\n",
            "testing... loss 1.7938 acc 0.3888: 100%|██████████| 10/10 [00:02<00:00,  4.06it/s]\n"
          ]
        },
        {
          "output_type": "stream",
          "name": "stdout",
          "text": [
            "Epoch 1/3 loss 2.0325 acc 0.2850 test_loss 1.7938 test_acc 0.3888\n"
          ]
        },
        {
          "output_type": "stream",
          "name": "stderr",
          "text": [
            "training... loss 1.7133 acc 0.4114: 100%|██████████| 49/49 [00:05<00:00,  8.47it/s]\n",
            "testing... loss 1.6828 acc 0.4219: 100%|██████████| 10/10 [00:02<00:00,  3.89it/s]\n"
          ]
        },
        {
          "output_type": "stream",
          "name": "stdout",
          "text": [
            "Epoch 2/3 loss 1.7133 acc 0.4114 test_loss 1.6828 test_acc 0.4219\n"
          ]
        },
        {
          "output_type": "stream",
          "name": "stderr",
          "text": [
            "training... loss 1.6343 acc 0.4379: 100%|██████████| 49/49 [00:05<00:00,  8.43it/s]\n",
            "testing... loss 1.6369 acc 0.4401: 100%|██████████| 10/10 [00:02<00:00,  3.94it/s]"
          ]
        },
        {
          "output_type": "stream",
          "name": "stdout",
          "text": [
            "Epoch 3/3 loss 1.6343 acc 0.4379 test_loss 1.6369 test_acc 0.4401\n"
          ]
        },
        {
          "output_type": "stream",
          "name": "stderr",
          "text": [
            "\n"
          ]
        }
      ]
    },
    {
      "cell_type": "code",
      "source": [
        "fig = plt.figure(figsize=(8, 3), dpi=100)\n",
        "ax = plt.subplot(1, 2, 1)\n",
        "for i, pctg in enumerate(pctgs):\n",
        "    ax.plot(hists[i]['test_loss'])\n",
        "ax.grid(True)\n",
        "ax.legend(pctgs)\n",
        "ax.set_title('loss')\n",
        "ax = plt.subplot(1, 2, 2)\n",
        "for i, pctg in enumerate(pctgs):\n",
        "    ax.plot(hists[i]['test_acc'])\n",
        "ax.grid(True)\n",
        "ax.set_title('acc')\n",
        "plt.tight_layout()\n",
        "plt.show()"
      ],
      "metadata": {
        "colab": {
          "base_uri": "https://localhost:8080/",
          "height": 307
        },
        "id": "rP-RV3kAfWd-",
        "outputId": "a69f4818-be94-436a-cde0-f01cc5953646"
      },
      "execution_count": null,
      "outputs": [
        {
          "output_type": "display_data",
          "data": {
            "text/plain": [
              "<Figure size 800x300 with 2 Axes>"
            ],
            "image/png": "[encoded data removed]"
          },
          "metadata": {
            "needs_background": "light"
          }
        }
      ]
    },
    {
      "cell_type": "markdown",
      "source": [
        "\n",
        "![](https://user-images.githubusercontent.com/14848164/120419539-b0fab900-c330-11eb-8536-126ce6ce7b85.png)"
      ],
      "metadata": {
        "id": "xk5mDv_hfcO-"
      }
    },
    {
      "cell_type": "code",
      "source": [
        "import torch\n",
        "import torchvision\n",
        "\n",
        "class SSLDataset(torch.utils.data.Dataset):\n",
        "    def __init__(self, trans):\n",
        "        self.trans = trans\n",
        "        trainset = torchvision.datasets.CIFAR10(root='./data', train=True, download=True)\n",
        "        self.imgs = np.array([np.array(i[0]) for i in trainset])\n",
        "    def __len__(self):\n",
        "        return len(self.imgs)\n",
        "    def __getitem__(self, ix):\n",
        "        img = self.imgs[ix]\n",
        "        img1 = self.trans(image=img)['image']\n",
        "        img2 = self.trans(image=img)['image']\n",
        "        return torch.from_numpy(img1 / 255.).permute(2,0,1).float(), torch.from_numpy(img2 / 255.).permute(2,0,1).float()"
      ],
      "metadata": {
        "id": "1-KgZK6pfaWm"
      },
      "execution_count": null,
      "outputs": []
    },
    {
      "cell_type": "code",
      "source": [
        "!pip install -q -U albumentations\n",
        "!echo \"$(pip freeze | grep albumentations) is successfully installed\""
      ],
      "metadata": {
        "colab": {
          "base_uri": "https://localhost:8080/"
        },
        "id": "_IO9Ektu7t9J",
        "outputId": "1412bf8c-ccd9-46cd-a51b-0af46cdc1b86"
      },
      "execution_count": null,
      "outputs": [
        {
          "output_type": "stream",
          "name": "stdout",
          "text": [
            "\u001b[K     |████████████████████████████████| 113 kB 7.0 MB/s \n",
            "\u001b[K     |████████████████████████████████| 48.3 MB 101 kB/s \n",
            "\u001b[?25halbumentations==1.2.0 is successfully installed\n"
          ]
        }
      ]
    },
    {
      "cell_type": "code",
      "source": [
        "!pip install albumentations"
      ],
      "metadata": {
        "colab": {
          "base_uri": "https://localhost:8080/"
        },
        "id": "IYSdPAdn70Dg",
        "outputId": "26683924-a418-48fd-b9d3-02b3e8d5a0e7"
      },
      "execution_count": null,
      "outputs": [
        {
          "output_type": "stream",
          "name": "stdout",
          "text": [
            "Looking in indexes: https://pypi.org/simple, https://us-python.pkg.dev/colab-wheels/public/simple/\n",
            "Requirement already satisfied: albumentations in /usr/local/lib/python3.7/dist-packages (1.2.0)\n",
            "Requirement already satisfied: opencv-python-headless>=4.1.1 in /usr/local/lib/python3.7/dist-packages (from albumentations) (4.6.0.66)\n",
            "Requirement already satisfied: numpy>=1.11.1 in /usr/local/lib/python3.7/dist-packages (from albumentations) (1.21.6)\n",
            "Requirement already satisfied: scikit-image<0.19,>=0.16.1 in /usr/local/lib/python3.7/dist-packages (from albumentations) (0.18.3)\n",
            "Requirement already satisfied: scipy in /usr/local/lib/python3.7/dist-packages (from albumentations) (1.4.1)\n",
            "Requirement already satisfied: qudida>=0.0.4 in /usr/local/lib/python3.7/dist-packages (from albumentations) (0.0.4)\n",
            "Requirement already satisfied: PyYAML in /usr/local/lib/python3.7/dist-packages (from albumentations) (3.13)\n",
            "Requirement already satisfied: scikit-learn>=0.19.1 in /usr/local/lib/python3.7/dist-packages (from qudida>=0.0.4->albumentations) (1.0.2)\n",
            "Requirement already satisfied: typing-extensions in /usr/local/lib/python3.7/dist-packages (from qudida>=0.0.4->albumentations) (4.1.1)\n",
            "Requirement already satisfied: pillow!=7.1.0,!=7.1.1,>=4.3.0 in /usr/local/lib/python3.7/dist-packages (from scikit-image<0.19,>=0.16.1->albumentations) (7.1.2)\n",
            "Requirement already satisfied: tifffile>=2019.7.26 in /usr/local/lib/python3.7/dist-packages (from scikit-image<0.19,>=0.16.1->albumentations) (2021.11.2)\n",
            "Requirement already satisfied: networkx>=2.0 in /usr/local/lib/python3.7/dist-packages (from scikit-image<0.19,>=0.16.1->albumentations) (2.6.3)\n",
            "Requirement already satisfied: PyWavelets>=1.1.1 in /usr/local/lib/python3.7/dist-packages (from scikit-image<0.19,>=0.16.1->albumentations) (1.3.0)\n",
            "Requirement already satisfied: matplotlib!=3.0.0,>=2.0.0 in /usr/local/lib/python3.7/dist-packages (from scikit-image<0.19,>=0.16.1->albumentations) (3.2.2)\n",
            "Requirement already satisfied: imageio>=2.3.0 in /usr/local/lib/python3.7/dist-packages (from scikit-image<0.19,>=0.16.1->albumentations) (2.4.1)\n",
            "Requirement already satisfied: pyparsing!=2.0.4,!=2.1.2,!=2.1.6,>=2.0.1 in /usr/local/lib/python3.7/dist-packages (from matplotlib!=3.0.0,>=2.0.0->scikit-image<0.19,>=0.16.1->albumentations) (3.0.9)\n",
            "Requirement already satisfied: python-dateutil>=2.1 in /usr/local/lib/python3.7/dist-packages (from matplotlib!=3.0.0,>=2.0.0->scikit-image<0.19,>=0.16.1->albumentations) (2.8.2)\n",
            "Requirement already satisfied: cycler>=0.10 in /usr/local/lib/python3.7/dist-packages (from matplotlib!=3.0.0,>=2.0.0->scikit-image<0.19,>=0.16.1->albumentations) (0.11.0)\n",
            "Requirement already satisfied: kiwisolver>=1.0.1 in /usr/local/lib/python3.7/dist-packages (from matplotlib!=3.0.0,>=2.0.0->scikit-image<0.19,>=0.16.1->albumentations) (1.4.3)\n",
            "Requirement already satisfied: six>=1.5 in /usr/local/lib/python3.7/dist-packages (from python-dateutil>=2.1->matplotlib!=3.0.0,>=2.0.0->scikit-image<0.19,>=0.16.1->albumentations) (1.15.0)\n",
            "Requirement already satisfied: threadpoolctl>=2.0.0 in /usr/local/lib/python3.7/dist-packages (from scikit-learn>=0.19.1->qudida>=0.0.4->albumentations) (3.1.0)\n",
            "Requirement already satisfied: joblib>=0.11 in /usr/local/lib/python3.7/dist-packages (from scikit-learn>=0.19.1->qudida>=0.0.4->albumentations) (1.1.0)\n"
          ]
        }
      ]
    },
    {
      "cell_type": "code",
      "source": [
        "!pip install opencv-python==4.5.5.64"
      ],
      "metadata": {
        "colab": {
          "base_uri": "https://localhost:8080/"
        },
        "id": "k5FIMO9ZOQ2R",
        "outputId": "5fc26606-a5ff-4ba9-8828-b7ee374dcbc3"
      },
      "execution_count": null,
      "outputs": [
        {
          "output_type": "stream",
          "name": "stdout",
          "text": [
            "Looking in indexes: https://pypi.org/simple, https://us-python.pkg.dev/colab-wheels/public/simple/\n",
            "Collecting opencv-python==4.5.5.64\n",
            "  Downloading opencv_python-4.5.5.64-cp36-abi3-manylinux_2_17_x86_64.manylinux2014_x86_64.whl (60.5 MB)\n",
            "\u001b[K     |████████████████████████████████| 60.5 MB 1.2 MB/s \n",
            "\u001b[?25hRequirement already satisfied: numpy>=1.14.5 in /usr/local/lib/python3.7/dist-packages (from opencv-python==4.5.5.64) (1.21.6)\n",
            "Installing collected packages: opencv-python\n",
            "  Attempting uninstall: opencv-python\n",
            "    Found existing installation: opencv-python 4.1.2.30\n",
            "    Uninstalling opencv-python-4.1.2.30:\n",
            "      Successfully uninstalled opencv-python-4.1.2.30\n",
            "Successfully installed opencv-python-4.5.5.64\n"
          ]
        }
      ]
    },
    {
      "cell_type": "code",
      "source": [
        "import numpy as np\n",
        "\n",
        "#import torchvision.transforms as T\n",
        "import albumentations as A\n",
        "\n",
        "trans = A.Compose([\n",
        "    #A.RandomResizedCrop(32, 32),\n",
        "    #A.augmentations.RandomSizedCrop(32,32),\n",
        "    #T.RandomSizedCrop(32,32),\n",
        "    #A.augmentations.transforms.RandomSizedCrop(32,32),\n",
        "    A.RandomCrop(32, 32),\n",
        "    A.HorizontalFlip(p=0.5),\n",
        "    #A.ColorJitter(p=0.3),\n",
        "    A.ToGray(p=0.3),\n",
        "    #A.GaussianBlur(),\n",
        "    \n",
        "    #torchvision.transforms.ColorJitter(0.3,0.3,0.3)\n",
        "   \n",
        "    \n",
        "])\n",
        "\n",
        "SSLds = SSLDataset(trans)"
      ],
      "metadata": {
        "colab": {
          "base_uri": "https://localhost:8080/"
        },
        "id": "FCqMRpEMgCD5",
        "outputId": "d9122b09-7237-4c26-c2c7-3ef1906629da"
      },
      "execution_count": null,
      "outputs": [
        {
          "output_type": "stream",
          "name": "stdout",
          "text": [
            "Files already downloaded and verified\n"
          ]
        }
      ]
    },
    {
      "cell_type": "code",
      "source": [
        "\n",
        "\n",
        "\n",
        "\n",
        "\n",
        "\n",
        "\n",
        "import matplotlib.pyplot as plt\n",
        "import random\n",
        "\n",
        "ix = random.randint(0, len(SSLds))\n",
        "img1, img2 = SSLds[ix]\n",
        "fig = plt.figure(dpi=50)\n",
        "ax = plt.subplot(1, 2, 1)\n",
        "ax.imshow(img1.permute(1,2,0))\n",
        "ax.axis('off')\n",
        "ax = plt.subplot(1, 2, 2)\n",
        "ax.imshow(img2.permute(1,2,0))\n",
        "ax.axis('off')\n",
        "plt.tight_layout()\n",
        "plt.show()"
      ],
      "metadata": {
        "colab": {
          "base_uri": "https://localhost:8080/",
          "height": 165
        },
        "id": "IVIq7Oz-CJTA",
        "outputId": "8e562e89-4eb9-4ea3-cf5a-f110c0e0ed00"
      },
      "execution_count": null,
      "outputs": [
        {
          "output_type": "display_data",
          "data": {
            "text/plain": [
              "<Figure size 300x200 with 2 Axes>"
            ],
            "image/png": "[encoded data removed]"
          },
          "metadata": {
            "needs_background": "light"
          }
        }
      ]
    },
    {
      "cell_type": "code",
      "source": [
        "class SSLModel(torch.nn.Module):\n",
        "\n",
        "    def __init__(self, f=512):\n",
        "        super().__init__()\n",
        "        self.backbone = torch.nn.Sequential(*list(torchvision.models.resnet18().children())[:-1])        \n",
        "        self.head = torch.nn.Sequential(\n",
        "            torch.nn.Flatten(),\n",
        "            torch.nn.Linear(512, f),\n",
        "            torch.nn.BatchNorm1d(f),\n",
        "            torch.nn.ReLU(),\n",
        "            torch.nn.Linear(f, f),\n",
        "            torch.nn.BatchNorm1d(f),\n",
        "            torch.nn.ReLU(),\n",
        "            torch.nn.Linear(f, f)\n",
        "        )\n",
        "\n",
        "    def forward(self, x):\n",
        "        x = self.backbone(x)\n",
        "        x = self.head(x)\n",
        "        return x"
      ],
      "metadata": {
        "id": "PbZ7YUZECSHp"
      },
      "execution_count": null,
      "outputs": []
    },
    {
      "cell_type": "code",
      "source": [
        "SSLmodel = SSLModel()\n",
        "output = SSLmodel(torch.randn(32, 3, 32, 32))\n",
        "\n",
        "output.shape"
      ],
      "metadata": {
        "colab": {
          "base_uri": "https://localhost:8080/"
        },
        "id": "jPACgIDyCVYp",
        "outputId": "dafc1c4e-f676-4ce5-fd94-69ac41f4a7b2"
      },
      "execution_count": null,
      "outputs": [
        {
          "output_type": "execute_result",
          "data": {
            "text/plain": [
              "torch.Size([32, 512])"
            ]
          },
          "metadata": {},
          "execution_count": 32
        }
      ]
    },
    {
      "cell_type": "code",
      "source": [
        "import copy\n",
        "\n",
        "class FTModel(torch.nn.Module):\n",
        "\n",
        "    def __init__(self, backbone='SSLbackbone.pt', n_outputs=10):\n",
        "        super().__init__()\n",
        "        self.backbone = torch.jit.load(backbone)\n",
        "        for param in self.backbone.parameters():\n",
        "            param.requires_grad = False\n",
        "        self.head = torch.nn.Sequential(\n",
        "            torch.nn.Flatten(),\n",
        "            torch.nn.Linear(512, n_outputs)\n",
        "        )\n",
        "\n",
        "    def forward(self, x):\n",
        "        x = self.backbone(x)\n",
        "        x = self.head(x)\n",
        "        return x"
      ],
      "metadata": {
        "id": "Z4U7qcOOCWhX"
      },
      "execution_count": null,
      "outputs": []
    },
    {
      "cell_type": "code",
      "source": [
        "from tqdm import tqdm \n",
        "\n",
        "def SSLeval(SSLmodel):\n",
        "    torch.jit.script(SSLmodel.backbone.cpu()).save('SSLbackbone.pt')\n",
        "    ds = {\n",
        "        'train': Dataset(),\n",
        "        'test': Dataset(train=False)\n",
        "    }\n",
        "    batch_size = 1024\n",
        "    dl = {\n",
        "        'train': torch.utils.data.DataLoader(ds['train'], batch_size=batch_size, shuffle=True, num_workers=num_workers),\n",
        "        'test': torch.utils.data.DataLoader(ds['test'], batch_size=batch_size, shuffle=False, num_workers=num_workers)\n",
        "    } \n",
        "    FTmodel = FTModel('SSLbackbone.pt')\n",
        "    optimizer = torch.optim.Adam(FTmodel.parameters(), lr=1e-3)\n",
        "    hist = train(FTmodel, dl, optimizer, epochs=3)\n",
        "    return hist['acc'][-1], hist['test_acc'][-1]\n",
        "\n",
        "def SSLstep(model, batch, device, l=5e-3):\n",
        "    # two randomly augmented versions of x\n",
        "    x1, x2 = batch\n",
        "    x1, x2 = x1.to(device), x2.to(device)\n",
        "    \n",
        "    # compute representations\n",
        "    z1 = model(x1)\n",
        "    z2 = model(x2)\n",
        "    \n",
        "    # normalize repr. along the batch dimension\n",
        "    N, D = z1.shape\n",
        "    z1_norm = (z1 - z1.mean(0)) / z1.std(0) # NxD\n",
        "    z2_norm = (z2 - z2.mean(0)) / z2.std(0) # NxD\n",
        "    \n",
        "    # cross-correlation matrix\n",
        "    c = (z1_norm.T @ z2_norm) / N # DxD\n",
        "    \n",
        "    # loss\n",
        "    c_diff = (c - torch.eye(D, device=device)).pow(2) # DxD\n",
        "    # multiply off-diagonal elems of c_diff by lambda\n",
        "    d = torch.eye(D, dtype=bool)\n",
        "    c_diff[~d] *= l\n",
        "    return c_diff.sum()\n",
        "\n",
        "def SSLtrain(model, dl, optimizer, scheduler, epochs=10, device=\"cuda\", eval_each=10):\n",
        "    hist = {'loss': [], 'acc': [], 'test_acc': []}\n",
        "    for e in range(1, epochs+1):\n",
        "        model.to(device)\n",
        "        # train\n",
        "        model.train()\n",
        "        l, a = [], []\n",
        "        bar = tqdm(dl)\n",
        "        for batch in bar:\n",
        "            optimizer.zero_grad()\n",
        "            loss = SSLstep(model, batch, device)\n",
        "            loss.backward()\n",
        "            optimizer.step()\n",
        "            l.append(loss.item())\n",
        "            bar.set_description(f\"training... loss {np.mean(l):.4f}\")\n",
        "        hist['loss'].append(np.mean(l))\n",
        "        scheduler.step()\n",
        "        # log\n",
        "        log = f'Epoch {e}/{epochs}'\n",
        "        for k, v in hist.items():\n",
        "            if len(v) > 0:\n",
        "                log += f' {k} {v[-1]:.4f}'\n",
        "        print(log)\n",
        "        # eval\n",
        "        if not e % eval_each:\n",
        "            print(\"evaluating ...\")\n",
        "            val_train_acc, val_test_acc = SSLeval(model)\n",
        "            hist['acc'].append(val_train_acc)\n",
        "            hist['test_acc'].append(val_test_acc)\n",
        "    return hist"
      ],
      "metadata": {
        "id": "7nERBh9rCbTn"
      },
      "execution_count": null,
      "outputs": []
    },
    {
      "cell_type": "code",
      "source": [
        "SSLdl = torch.utils.data.DataLoader(SSLds, batch_size=1024, shuffle=True, num_workers=num_workers)\n",
        "SSLmodel = SSLModel()\n",
        "optimizer = torch.optim.Adam(SSLmodel.parameters(), lr=1e-4)\n",
        "epochs = 500\n",
        "scheduler = torch.optim.lr_scheduler.OneCycleLR(optimizer, pct_start=0.01, max_lr=0.1, total_steps=epochs, verbose=True)\n",
        "hist = SSLtrain(SSLmodel, SSLdl, optimizer, scheduler, epochs=epochs)"
      ],
      "metadata": {
        "colab": {
          "base_uri": "https://localhost:8080/",
          "height": 1000
        },
        "id": "Qbsh0ErQCciA",
        "outputId": "dc0fd6bc-e0ea-467e-96aa-0533b2d2f4d7"
      },
      "execution_count": null,
      "outputs": [
        {
          "output_type": "stream",
          "name": "stderr",
          "text": [
            "/usr/local/lib/python3.7/dist-packages/torch/utils/data/dataloader.py:490: UserWarning: This DataLoader will create 24 worker processes in total. Our suggested max number of worker in current system is 2, which is smaller than what this DataLoader is going to create. Please be aware that excessive worker creation might get DataLoader running slow or even freeze, lower the worker number to avoid potential slowness/freeze if necessary.\n",
            "  cpuset_checked))\n"
          ]
        },
        {
          "output_type": "stream",
          "name": "stdout",
          "text": [
            "Adjusting learning rate of group 0 to 4.0000e-03.\n"
          ]
        },
        {
          "output_type": "stream",
          "name": "stderr",
          "text": [
            "training... loss 85.0286: 100%|██████████| 49/49 [00:21<00:00,  2.30it/s]\n"
          ]
        },
        {
          "output_type": "stream",
          "name": "stdout",
          "text": [
            "Adjusting learning rate of group 0 to 1.8059e-02.\n",
            "Epoch 1/500 loss 85.0286\n"
          ]
        },
        {
          "output_type": "stream",
          "name": "stderr",
          "text": [
            "training... loss 91.2076: 100%|██████████| 49/49 [00:21<00:00,  2.30it/s]\n"
          ]
        },
        {
          "output_type": "stream",
          "name": "stdout",
          "text": [
            "Adjusting learning rate of group 0 to 5.2000e-02.\n",
            "Epoch 2/500 loss 91.2076\n"
          ]
        },
        {
          "output_type": "stream",
          "name": "stderr",
          "text": [
            "training... loss 49.0191: 100%|██████████| 49/49 [00:20<00:00,  2.34it/s]\n"
          ]
        },
        {
          "output_type": "stream",
          "name": "stdout",
          "text": [
            "Adjusting learning rate of group 0 to 8.5941e-02.\n",
            "Epoch 3/500 loss 49.0191\n"
          ]
        },
        {
          "output_type": "stream",
          "name": "stderr",
          "text": [
            "training... loss 31.6643: 100%|██████████| 49/49 [00:20<00:00,  2.34it/s]\n"
          ]
        },
        {
          "output_type": "stream",
          "name": "stdout",
          "text": [
            "Adjusting learning rate of group 0 to 1.0000e-01.\n",
            "Epoch 4/500 loss 31.6643\n"
          ]
        },
        {
          "output_type": "stream",
          "name": "stderr",
          "text": [
            "training... loss 20.7383: 100%|██████████| 49/49 [00:21<00:00,  2.33it/s]\n"
          ]
        },
        {
          "output_type": "stream",
          "name": "stdout",
          "text": [
            "Adjusting learning rate of group 0 to 9.9999e-02.\n",
            "Epoch 5/500 loss 20.7383\n"
          ]
        },
        {
          "output_type": "stream",
          "name": "stderr",
          "text": [
            "training... loss 14.1915: 100%|██████████| 49/49 [00:21<00:00,  2.32it/s]\n"
          ]
        },
        {
          "output_type": "stream",
          "name": "stdout",
          "text": [
            "Adjusting learning rate of group 0 to 9.9996e-02.\n",
            "Epoch 6/500 loss 14.1915\n"
          ]
        },
        {
          "output_type": "stream",
          "name": "stderr",
          "text": [
            "training... loss 10.2560: 100%|██████████| 49/49 [00:21<00:00,  2.30it/s]\n"
          ]
        },
        {
          "output_type": "stream",
          "name": "stdout",
          "text": [
            "Adjusting learning rate of group 0 to 9.9991e-02.\n",
            "Epoch 7/500 loss 10.2560\n"
          ]
        },
        {
          "output_type": "stream",
          "name": "stderr",
          "text": [
            "training... loss 7.9164: 100%|██████████| 49/49 [00:21<00:00,  2.30it/s]\n"
          ]
        },
        {
          "output_type": "stream",
          "name": "stdout",
          "text": [
            "Adjusting learning rate of group 0 to 9.9984e-02.\n",
            "Epoch 8/500 loss 7.9164\n"
          ]
        },
        {
          "output_type": "stream",
          "name": "stderr",
          "text": [
            "training... loss 6.4049: 100%|██████████| 49/49 [00:21<00:00,  2.29it/s]\n"
          ]
        },
        {
          "output_type": "stream",
          "name": "stdout",
          "text": [
            "Adjusting learning rate of group 0 to 9.9975e-02.\n",
            "Epoch 9/500 loss 6.4049\n"
          ]
        },
        {
          "output_type": "stream",
          "name": "stderr",
          "text": [
            "training... loss 5.3627: 100%|██████████| 49/49 [00:21<00:00,  2.29it/s]\n"
          ]
        },
        {
          "output_type": "stream",
          "name": "stdout",
          "text": [
            "Adjusting learning rate of group 0 to 9.9964e-02.\n",
            "Epoch 10/500 loss 5.3627\n",
            "evaluating ...\n",
            "Files already downloaded and verified\n",
            "Files already downloaded and verified\n"
          ]
        },
        {
          "output_type": "stream",
          "name": "stderr",
          "text": [
            "training... loss 2.1645 acc 0.2314: 100%|██████████| 49/49 [00:06<00:00,  7.52it/s]\n",
            "testing... loss 2.0192 acc 0.2827: 100%|██████████| 10/10 [00:02<00:00,  3.55it/s]\n"
          ]
        },
        {
          "output_type": "stream",
          "name": "stdout",
          "text": [
            "Epoch 1/3 loss 2.1645 acc 0.2314 test_loss 2.0192 test_acc 0.2827\n"
          ]
        },
        {
          "output_type": "stream",
          "name": "stderr",
          "text": [
            "training... loss 2.0119 acc 0.2833: 100%|██████████| 49/49 [00:06<00:00,  7.95it/s]\n",
            "testing... loss 1.9873 acc 0.2944: 100%|██████████| 10/10 [00:02<00:00,  3.59it/s]\n"
          ]
        },
        {
          "output_type": "stream",
          "name": "stdout",
          "text": [
            "Epoch 2/3 loss 2.0119 acc 0.2833 test_loss 1.9873 test_acc 0.2944\n"
          ]
        },
        {
          "output_type": "stream",
          "name": "stderr",
          "text": [
            "training... loss 1.9915 acc 0.2879: 100%|██████████| 49/49 [00:06<00:00,  7.96it/s]\n",
            "testing... loss 1.9750 acc 0.2957: 100%|██████████| 10/10 [00:02<00:00,  3.53it/s]\n"
          ]
        },
        {
          "output_type": "stream",
          "name": "stdout",
          "text": [
            "Epoch 3/3 loss 1.9915 acc 0.2879 test_loss 1.9750 test_acc 0.2957\n"
          ]
        },
        {
          "output_type": "stream",
          "name": "stderr",
          "text": [
            "training... loss 4.6603: 100%|██████████| 49/49 [00:22<00:00,  2.21it/s]\n"
          ]
        },
        {
          "output_type": "stream",
          "name": "stdout",
          "text": [
            "Adjusting learning rate of group 0 to 9.9951e-02.\n",
            "Epoch 11/500 loss 4.6603 acc 0.2879 test_acc 0.2957\n"
          ]
        },
        {
          "output_type": "stream",
          "name": "stderr",
          "text": [
            "training... loss 11.0474: 100%|██████████| 49/49 [00:22<00:00,  2.23it/s]\n"
          ]
        },
        {
          "output_type": "stream",
          "name": "stdout",
          "text": [
            "Adjusting learning rate of group 0 to 9.9936e-02.\n",
            "Epoch 12/500 loss 11.0474 acc 0.2879 test_acc 0.2957\n"
          ]
        },
        {
          "output_type": "stream",
          "name": "stderr",
          "text": [
            "training... loss 7.6669: 100%|██████████| 49/49 [00:22<00:00,  2.23it/s]\n"
          ]
        },
        {
          "output_type": "stream",
          "name": "stdout",
          "text": [
            "Adjusting learning rate of group 0 to 9.9918e-02.\n",
            "Epoch 13/500 loss 7.6669 acc 0.2879 test_acc 0.2957\n"
          ]
        },
        {
          "output_type": "stream",
          "name": "stderr",
          "text": [
            "training... loss 6.1402: 100%|██████████| 49/49 [00:21<00:00,  2.23it/s]\n"
          ]
        },
        {
          "output_type": "stream",
          "name": "stdout",
          "text": [
            "Adjusting learning rate of group 0 to 9.9899e-02.\n",
            "Epoch 14/500 loss 6.1402 acc 0.2879 test_acc 0.2957\n"
          ]
        },
        {
          "output_type": "stream",
          "name": "stderr",
          "text": [
            "training... loss 5.3562: 100%|██████████| 49/49 [00:22<00:00,  2.22it/s]\n"
          ]
        },
        {
          "output_type": "stream",
          "name": "stdout",
          "text": [
            "Adjusting learning rate of group 0 to 9.9878e-02.\n",
            "Epoch 15/500 loss 5.3562 acc 0.2879 test_acc 0.2957\n"
          ]
        },
        {
          "output_type": "stream",
          "name": "stderr",
          "text": [
            "training... loss 4.7133: 100%|██████████| 49/49 [00:21<00:00,  2.24it/s]\n"
          ]
        },
        {
          "output_type": "stream",
          "name": "stdout",
          "text": [
            "Adjusting learning rate of group 0 to 9.9855e-02.\n",
            "Epoch 16/500 loss 4.7133 acc 0.2879 test_acc 0.2957\n"
          ]
        },
        {
          "output_type": "stream",
          "name": "stderr",
          "text": [
            "training... loss 4.2014: 100%|██████████| 49/49 [00:22<00:00,  2.22it/s]\n"
          ]
        },
        {
          "output_type": "stream",
          "name": "stdout",
          "text": [
            "Adjusting learning rate of group 0 to 9.9830e-02.\n",
            "Epoch 17/500 loss 4.2014 acc 0.2879 test_acc 0.2957\n"
          ]
        },
        {
          "output_type": "stream",
          "name": "stderr",
          "text": [
            "training... loss 3.7707: 100%|██████████| 49/49 [00:22<00:00,  2.22it/s]\n"
          ]
        },
        {
          "output_type": "stream",
          "name": "stdout",
          "text": [
            "Adjusting learning rate of group 0 to 9.9803e-02.\n",
            "Epoch 18/500 loss 3.7707 acc 0.2879 test_acc 0.2957\n"
          ]
        },
        {
          "output_type": "stream",
          "name": "stderr",
          "text": [
            "training... loss 3.6090: 100%|██████████| 49/49 [00:21<00:00,  2.23it/s]\n"
          ]
        },
        {
          "output_type": "stream",
          "name": "stdout",
          "text": [
            "Adjusting learning rate of group 0 to 9.9774e-02.\n",
            "Epoch 19/500 loss 3.6090 acc 0.2879 test_acc 0.2957\n"
          ]
        },
        {
          "output_type": "stream",
          "name": "stderr",
          "text": [
            "training... loss 3.3264: 100%|██████████| 49/49 [00:22<00:00,  2.23it/s]\n"
          ]
        },
        {
          "output_type": "stream",
          "name": "stdout",
          "text": [
            "Adjusting learning rate of group 0 to 9.9742e-02.\n",
            "Epoch 20/500 loss 3.3264 acc 0.2879 test_acc 0.2957\n",
            "evaluating ...\n",
            "Files already downloaded and verified\n",
            "Files already downloaded and verified\n"
          ]
        },
        {
          "output_type": "stream",
          "name": "stderr",
          "text": [
            "training... loss 2.0811 acc 0.2450: 100%|██████████| 49/49 [00:06<00:00,  7.49it/s]\n",
            "testing... loss 2.0039 acc 0.2749: 100%|██████████| 10/10 [00:02<00:00,  3.49it/s]\n"
          ]
        },
        {
          "output_type": "stream",
          "name": "stdout",
          "text": [
            "Epoch 1/3 loss 2.0811 acc 0.2450 test_loss 2.0039 test_acc 0.2749\n"
          ]
        },
        {
          "output_type": "stream",
          "name": "stderr",
          "text": [
            "training... loss 2.0034 acc 0.2707: 100%|██████████| 49/49 [00:06<00:00,  7.86it/s]\n",
            "testing... loss 1.9910 acc 0.2760: 100%|██████████| 10/10 [00:02<00:00,  3.53it/s]\n"
          ]
        },
        {
          "output_type": "stream",
          "name": "stdout",
          "text": [
            "Epoch 2/3 loss 2.0034 acc 0.2707 test_loss 1.9910 test_acc 0.2760\n"
          ]
        },
        {
          "output_type": "stream",
          "name": "stderr",
          "text": [
            "training... loss 1.9942 acc 0.2749: 100%|██████████| 49/49 [00:06<00:00,  7.77it/s]\n",
            "testing... loss 1.9852 acc 0.2862: 100%|██████████| 10/10 [00:02<00:00,  3.57it/s]\n"
          ]
        },
        {
          "output_type": "stream",
          "name": "stdout",
          "text": [
            "Epoch 3/3 loss 1.9942 acc 0.2749 test_loss 1.9852 test_acc 0.2862\n"
          ]
        },
        {
          "output_type": "stream",
          "name": "stderr",
          "text": [
            "training... loss 3.1703: 100%|██████████| 49/49 [00:22<00:00,  2.19it/s]\n"
          ]
        },
        {
          "output_type": "stream",
          "name": "stdout",
          "text": [
            "Adjusting learning rate of group 0 to 9.9709e-02.\n",
            "Epoch 21/500 loss 3.1703 acc 0.2749 test_acc 0.2862\n"
          ]
        },
        {
          "output_type": "stream",
          "name": "stderr",
          "text": [
            "training... loss 3.0464: 100%|██████████| 49/49 [00:22<00:00,  2.21it/s]\n"
          ]
        },
        {
          "output_type": "stream",
          "name": "stdout",
          "text": [
            "Adjusting learning rate of group 0 to 9.9674e-02.\n",
            "Epoch 22/500 loss 3.0464 acc 0.2749 test_acc 0.2862\n"
          ]
        },
        {
          "output_type": "stream",
          "name": "stderr",
          "text": [
            "training... loss 2.9646: 100%|██████████| 49/49 [00:21<00:00,  2.23it/s]\n"
          ]
        },
        {
          "output_type": "stream",
          "name": "stdout",
          "text": [
            "Adjusting learning rate of group 0 to 9.9637e-02.\n",
            "Epoch 23/500 loss 2.9646 acc 0.2749 test_acc 0.2862\n"
          ]
        },
        {
          "output_type": "stream",
          "name": "stderr",
          "text": [
            "training... loss 2.8807: 100%|██████████| 49/49 [00:22<00:00,  2.23it/s]\n"
          ]
        },
        {
          "output_type": "stream",
          "name": "stdout",
          "text": [
            "Adjusting learning rate of group 0 to 9.9598e-02.\n",
            "Epoch 24/500 loss 2.8807 acc 0.2749 test_acc 0.2862\n"
          ]
        },
        {
          "output_type": "stream",
          "name": "stderr",
          "text": [
            "training... loss 2.8240: 100%|██████████| 49/49 [00:22<00:00,  2.20it/s]\n"
          ]
        },
        {
          "output_type": "stream",
          "name": "stdout",
          "text": [
            "Adjusting learning rate of group 0 to 9.9557e-02.\n",
            "Epoch 25/500 loss 2.8240 acc 0.2749 test_acc 0.2862\n"
          ]
        },
        {
          "output_type": "stream",
          "name": "stderr",
          "text": [
            "training... loss 2.7797: 100%|██████████| 49/49 [00:22<00:00,  2.21it/s]\n"
          ]
        },
        {
          "output_type": "stream",
          "name": "stdout",
          "text": [
            "Adjusting learning rate of group 0 to 9.9513e-02.\n",
            "Epoch 26/500 loss 2.7797 acc 0.2749 test_acc 0.2862\n"
          ]
        },
        {
          "output_type": "stream",
          "name": "stderr",
          "text": [
            "training... loss 2.7377: 100%|██████████| 49/49 [00:22<00:00,  2.22it/s]\n"
          ]
        },
        {
          "output_type": "stream",
          "name": "stdout",
          "text": [
            "Adjusting learning rate of group 0 to 9.9468e-02.\n",
            "Epoch 27/500 loss 2.7377 acc 0.2749 test_acc 0.2862\n"
          ]
        },
        {
          "output_type": "stream",
          "name": "stderr",
          "text": [
            "training... loss 2.7393: 100%|██████████| 49/49 [00:22<00:00,  2.21it/s]\n"
          ]
        },
        {
          "output_type": "stream",
          "name": "stdout",
          "text": [
            "Adjusting learning rate of group 0 to 9.9421e-02.\n",
            "Epoch 28/500 loss 2.7393 acc 0.2749 test_acc 0.2862\n"
          ]
        },
        {
          "output_type": "stream",
          "name": "stderr",
          "text": [
            "training... loss 2.6986: 100%|██████████| 49/49 [00:22<00:00,  2.22it/s]\n"
          ]
        },
        {
          "output_type": "stream",
          "name": "stdout",
          "text": [
            "Adjusting learning rate of group 0 to 9.9372e-02.\n",
            "Epoch 29/500 loss 2.6986 acc 0.2749 test_acc 0.2862\n"
          ]
        },
        {
          "output_type": "stream",
          "name": "stderr",
          "text": [
            "training... loss 2.6778: 100%|██████████| 49/49 [00:22<00:00,  2.23it/s]\n"
          ]
        },
        {
          "output_type": "stream",
          "name": "stdout",
          "text": [
            "Adjusting learning rate of group 0 to 9.9321e-02.\n",
            "Epoch 30/500 loss 2.6778 acc 0.2749 test_acc 0.2862\n",
            "evaluating ...\n",
            "Files already downloaded and verified\n",
            "Files already downloaded and verified\n"
          ]
        },
        {
          "output_type": "stream",
          "name": "stderr",
          "text": [
            "training... loss 2.1153 acc 0.2323: 100%|██████████| 49/49 [00:06<00:00,  7.28it/s]\n",
            "testing... loss 2.0201 acc 0.2627: 100%|██████████| 10/10 [00:02<00:00,  3.51it/s]\n"
          ]
        },
        {
          "output_type": "stream",
          "name": "stdout",
          "text": [
            "Epoch 1/3 loss 2.1153 acc 0.2323 test_loss 2.0201 test_acc 0.2627\n"
          ]
        },
        {
          "output_type": "stream",
          "name": "stderr",
          "text": [
            "training... loss 2.0141 acc 0.2662: 100%|██████████| 49/49 [00:06<00:00,  7.72it/s]\n",
            "testing... loss 2.0002 acc 0.2714: 100%|██████████| 10/10 [00:02<00:00,  3.42it/s]\n"
          ]
        },
        {
          "output_type": "stream",
          "name": "stdout",
          "text": [
            "Epoch 2/3 loss 2.0141 acc 0.2662 test_loss 2.0002 test_acc 0.2714\n"
          ]
        },
        {
          "output_type": "stream",
          "name": "stderr",
          "text": [
            "training... loss 1.9989 acc 0.2732: 100%|██████████| 49/49 [00:06<00:00,  7.66it/s]\n",
            "testing... loss 1.9933 acc 0.2773: 100%|██████████| 10/10 [00:02<00:00,  3.44it/s]\n"
          ]
        },
        {
          "output_type": "stream",
          "name": "stdout",
          "text": [
            "Epoch 3/3 loss 1.9989 acc 0.2732 test_loss 1.9933 test_acc 0.2773\n"
          ]
        },
        {
          "output_type": "stream",
          "name": "stderr",
          "text": [
            "training... loss 2.6565: 100%|██████████| 49/49 [00:22<00:00,  2.17it/s]\n"
          ]
        },
        {
          "output_type": "stream",
          "name": "stdout",
          "text": [
            "Adjusting learning rate of group 0 to 9.9268e-02.\n",
            "Epoch 31/500 loss 2.6565 acc 0.2732 test_acc 0.2773\n"
          ]
        },
        {
          "output_type": "stream",
          "name": "stderr",
          "text": [
            "training... loss 2.6337: 100%|██████████| 49/49 [00:22<00:00,  2.21it/s]\n"
          ]
        },
        {
          "output_type": "stream",
          "name": "stdout",
          "text": [
            "Adjusting learning rate of group 0 to 9.9213e-02.\n",
            "Epoch 32/500 loss 2.6337 acc 0.2732 test_acc 0.2773\n"
          ]
        },
        {
          "output_type": "stream",
          "name": "stderr",
          "text": [
            "training... loss 2.6239: 100%|██████████| 49/49 [00:21<00:00,  2.24it/s]\n"
          ]
        },
        {
          "output_type": "stream",
          "name": "stdout",
          "text": [
            "Adjusting learning rate of group 0 to 9.9156e-02.\n",
            "Epoch 33/500 loss 2.6239 acc 0.2732 test_acc 0.2773\n"
          ]
        },
        {
          "output_type": "stream",
          "name": "stderr",
          "text": [
            "training... loss 2.6044: 100%|██████████| 49/49 [00:22<00:00,  2.22it/s]\n"
          ]
        },
        {
          "output_type": "stream",
          "name": "stdout",
          "text": [
            "Adjusting learning rate of group 0 to 9.9096e-02.\n",
            "Epoch 34/500 loss 2.6044 acc 0.2732 test_acc 0.2773\n"
          ]
        },
        {
          "output_type": "stream",
          "name": "stderr",
          "text": [
            "training... loss 2.5866: 100%|██████████| 49/49 [00:22<00:00,  2.21it/s]\n"
          ]
        },
        {
          "output_type": "stream",
          "name": "stdout",
          "text": [
            "Adjusting learning rate of group 0 to 9.9035e-02.\n",
            "Epoch 35/500 loss 2.5866 acc 0.2732 test_acc 0.2773\n"
          ]
        },
        {
          "output_type": "stream",
          "name": "stderr",
          "text": [
            "training... loss 2.5722: 100%|██████████| 49/49 [00:22<00:00,  2.21it/s]\n"
          ]
        },
        {
          "output_type": "stream",
          "name": "stdout",
          "text": [
            "Adjusting learning rate of group 0 to 9.8972e-02.\n",
            "Epoch 36/500 loss 2.5722 acc 0.2732 test_acc 0.2773\n"
          ]
        },
        {
          "output_type": "stream",
          "name": "stderr",
          "text": [
            "training... loss 2.5505: 100%|██████████| 49/49 [00:22<00:00,  2.21it/s]\n"
          ]
        },
        {
          "output_type": "stream",
          "name": "stdout",
          "text": [
            "Adjusting learning rate of group 0 to 9.8907e-02.\n",
            "Epoch 37/500 loss 2.5505 acc 0.2732 test_acc 0.2773\n"
          ]
        },
        {
          "output_type": "stream",
          "name": "stderr",
          "text": [
            "training... loss 2.5569: 100%|██████████| 49/49 [00:22<00:00,  2.21it/s]\n"
          ]
        },
        {
          "output_type": "stream",
          "name": "stdout",
          "text": [
            "Adjusting learning rate of group 0 to 9.8840e-02.\n",
            "Epoch 38/500 loss 2.5569 acc 0.2732 test_acc 0.2773\n"
          ]
        },
        {
          "output_type": "stream",
          "name": "stderr",
          "text": [
            "training... loss 2.5422: 100%|██████████| 49/49 [00:22<00:00,  2.21it/s]\n"
          ]
        },
        {
          "output_type": "stream",
          "name": "stdout",
          "text": [
            "Adjusting learning rate of group 0 to 9.8771e-02.\n",
            "Epoch 39/500 loss 2.5422 acc 0.2732 test_acc 0.2773\n"
          ]
        },
        {
          "output_type": "stream",
          "name": "stderr",
          "text": [
            "training... loss 2.5098: 100%|██████████| 49/49 [00:22<00:00,  2.22it/s]\n"
          ]
        },
        {
          "output_type": "stream",
          "name": "stdout",
          "text": [
            "Adjusting learning rate of group 0 to 9.8701e-02.\n",
            "Epoch 40/500 loss 2.5098 acc 0.2732 test_acc 0.2773\n",
            "evaluating ...\n",
            "Files already downloaded and verified\n",
            "Files already downloaded and verified\n"
          ]
        },
        {
          "output_type": "stream",
          "name": "stderr",
          "text": [
            "training... loss 2.1008 acc 0.2377: 100%|██████████| 49/49 [00:06<00:00,  7.18it/s]\n",
            "testing... loss 2.0029 acc 0.2716: 100%|██████████| 10/10 [00:02<00:00,  3.37it/s]\n"
          ]
        },
        {
          "output_type": "stream",
          "name": "stdout",
          "text": [
            "Epoch 1/3 loss 2.1008 acc 0.2377 test_loss 2.0029 test_acc 0.2716\n"
          ]
        },
        {
          "output_type": "stream",
          "name": "stderr",
          "text": [
            "training... loss 2.0093 acc 0.2692: 100%|██████████| 49/49 [00:06<00:00,  7.57it/s]\n",
            "testing... loss 1.9970 acc 0.2714: 100%|██████████| 10/10 [00:02<00:00,  3.43it/s]\n"
          ]
        },
        {
          "output_type": "stream",
          "name": "stdout",
          "text": [
            "Epoch 2/3 loss 2.0093 acc 0.2692 test_loss 1.9970 test_acc 0.2714\n"
          ]
        },
        {
          "output_type": "stream",
          "name": "stderr",
          "text": [
            "training... loss 1.9990 acc 0.2735: 100%|██████████| 49/49 [00:06<00:00,  7.60it/s]\n",
            "testing... loss 1.9869 acc 0.2775: 100%|██████████| 10/10 [00:02<00:00,  3.37it/s]\n"
          ]
        },
        {
          "output_type": "stream",
          "name": "stdout",
          "text": [
            "Epoch 3/3 loss 1.9990 acc 0.2735 test_loss 1.9869 test_acc 0.2775\n"
          ]
        },
        {
          "output_type": "stream",
          "name": "stderr",
          "text": [
            "training... loss 2.5129: 100%|██████████| 49/49 [00:22<00:00,  2.18it/s]\n"
          ]
        },
        {
          "output_type": "stream",
          "name": "stdout",
          "text": [
            "Adjusting learning rate of group 0 to 9.8628e-02.\n",
            "Epoch 41/500 loss 2.5129 acc 0.2735 test_acc 0.2775\n"
          ]
        },
        {
          "output_type": "stream",
          "name": "stderr",
          "text": [
            "training... loss 2.5124: 100%|██████████| 49/49 [00:22<00:00,  2.20it/s]\n"
          ]
        },
        {
          "output_type": "stream",
          "name": "stdout",
          "text": [
            "Adjusting learning rate of group 0 to 9.8553e-02.\n",
            "Epoch 42/500 loss 2.5124 acc 0.2735 test_acc 0.2775\n"
          ]
        },
        {
          "output_type": "stream",
          "name": "stderr",
          "text": [
            "training... loss 2.4776: 100%|██████████| 49/49 [00:22<00:00,  2.21it/s]\n"
          ]
        },
        {
          "output_type": "stream",
          "name": "stdout",
          "text": [
            "Adjusting learning rate of group 0 to 9.8476e-02.\n",
            "Epoch 43/500 loss 2.4776 acc 0.2735 test_acc 0.2775\n"
          ]
        },
        {
          "output_type": "stream",
          "name": "stderr",
          "text": [
            "training... loss 2.4752: 100%|██████████| 49/49 [00:22<00:00,  2.21it/s]\n"
          ]
        },
        {
          "output_type": "stream",
          "name": "stdout",
          "text": [
            "Adjusting learning rate of group 0 to 9.8397e-02.\n",
            "Epoch 44/500 loss 2.4752 acc 0.2735 test_acc 0.2775\n"
          ]
        },
        {
          "output_type": "stream",
          "name": "stderr",
          "text": [
            "training... loss 2.4618: 100%|██████████| 49/49 [00:22<00:00,  2.21it/s]\n"
          ]
        },
        {
          "output_type": "stream",
          "name": "stdout",
          "text": [
            "Adjusting learning rate of group 0 to 9.8317e-02.\n",
            "Epoch 45/500 loss 2.4618 acc 0.2735 test_acc 0.2775\n"
          ]
        },
        {
          "output_type": "stream",
          "name": "stderr",
          "text": [
            "training... loss 2.4514: 100%|██████████| 49/49 [00:21<00:00,  2.23it/s]\n"
          ]
        },
        {
          "output_type": "stream",
          "name": "stdout",
          "text": [
            "Adjusting learning rate of group 0 to 9.8234e-02.\n",
            "Epoch 46/500 loss 2.4514 acc 0.2735 test_acc 0.2775\n"
          ]
        },
        {
          "output_type": "stream",
          "name": "stderr",
          "text": [
            "training... loss 2.4294: 100%|██████████| 49/49 [00:22<00:00,  2.21it/s]\n"
          ]
        },
        {
          "output_type": "stream",
          "name": "stdout",
          "text": [
            "Adjusting learning rate of group 0 to 9.8150e-02.\n",
            "Epoch 47/500 loss 2.4294 acc 0.2735 test_acc 0.2775\n"
          ]
        },
        {
          "output_type": "stream",
          "name": "stderr",
          "text": [
            "training... loss 2.4165: 100%|██████████| 49/49 [00:22<00:00,  2.20it/s]\n"
          ]
        },
        {
          "output_type": "stream",
          "name": "stdout",
          "text": [
            "Adjusting learning rate of group 0 to 9.8063e-02.\n",
            "Epoch 48/500 loss 2.4165 acc 0.2735 test_acc 0.2775\n"
          ]
        },
        {
          "output_type": "stream",
          "name": "stderr",
          "text": [
            "training... loss 2.4033: 100%|██████████| 49/49 [00:22<00:00,  2.21it/s]\n"
          ]
        },
        {
          "output_type": "stream",
          "name": "stdout",
          "text": [
            "Adjusting learning rate of group 0 to 9.7975e-02.\n",
            "Epoch 49/500 loss 2.4033 acc 0.2735 test_acc 0.2775\n"
          ]
        },
        {
          "output_type": "stream",
          "name": "stderr",
          "text": [
            "training... loss 2.4067: 100%|██████████| 49/49 [00:22<00:00,  2.22it/s]\n"
          ]
        },
        {
          "output_type": "stream",
          "name": "stdout",
          "text": [
            "Adjusting learning rate of group 0 to 9.7884e-02.\n",
            "Epoch 50/500 loss 2.4067 acc 0.2735 test_acc 0.2775\n",
            "evaluating ...\n",
            "Files already downloaded and verified\n",
            "Files already downloaded and verified\n"
          ]
        },
        {
          "output_type": "stream",
          "name": "stderr",
          "text": [
            "training... loss 2.0952 acc 0.2385: 100%|██████████| 49/49 [00:06<00:00,  7.26it/s]\n",
            "testing... loss 2.0137 acc 0.2717: 100%|██████████| 10/10 [00:02<00:00,  3.36it/s]\n"
          ]
        },
        {
          "output_type": "stream",
          "name": "stdout",
          "text": [
            "Epoch 1/3 loss 2.0952 acc 0.2385 test_loss 2.0137 test_acc 0.2717\n"
          ]
        },
        {
          "output_type": "stream",
          "name": "stderr",
          "text": [
            "training... loss 2.0152 acc 0.2689: 100%|██████████| 49/49 [00:06<00:00,  7.54it/s]\n",
            "testing... loss 2.0061 acc 0.2790: 100%|██████████| 10/10 [00:02<00:00,  3.36it/s]\n"
          ]
        },
        {
          "output_type": "stream",
          "name": "stdout",
          "text": [
            "Epoch 2/3 loss 2.0152 acc 0.2689 test_loss 2.0061 test_acc 0.2790\n"
          ]
        },
        {
          "output_type": "stream",
          "name": "stderr",
          "text": [
            "training... loss 2.0070 acc 0.2706: 100%|██████████| 49/49 [00:06<00:00,  7.64it/s]\n",
            "testing... loss 2.0034 acc 0.2731: 100%|██████████| 10/10 [00:02<00:00,  3.39it/s]\n"
          ]
        },
        {
          "output_type": "stream",
          "name": "stdout",
          "text": [
            "Epoch 3/3 loss 2.0070 acc 0.2706 test_loss 2.0034 test_acc 0.2731\n"
          ]
        },
        {
          "output_type": "stream",
          "name": "stderr",
          "text": [
            "training... loss 2.3955: 100%|██████████| 49/49 [00:22<00:00,  2.20it/s]\n"
          ]
        },
        {
          "output_type": "stream",
          "name": "stdout",
          "text": [
            "Adjusting learning rate of group 0 to 9.7792e-02.\n",
            "Epoch 51/500 loss 2.3955 acc 0.2706 test_acc 0.2731\n"
          ]
        },
        {
          "output_type": "stream",
          "name": "stderr",
          "text": [
            "training... loss 2.4466: 100%|██████████| 49/49 [00:22<00:00,  2.20it/s]\n"
          ]
        },
        {
          "output_type": "stream",
          "name": "stdout",
          "text": [
            "Adjusting learning rate of group 0 to 9.7698e-02.\n",
            "Epoch 52/500 loss 2.4466 acc 0.2706 test_acc 0.2731\n"
          ]
        },
        {
          "output_type": "stream",
          "name": "stderr",
          "text": [
            "training... loss 2.4374: 100%|██████████| 49/49 [00:22<00:00,  2.20it/s]\n"
          ]
        },
        {
          "output_type": "stream",
          "name": "stdout",
          "text": [
            "Adjusting learning rate of group 0 to 9.7602e-02.\n",
            "Epoch 53/500 loss 2.4374 acc 0.2706 test_acc 0.2731\n"
          ]
        },
        {
          "output_type": "stream",
          "name": "stderr",
          "text": [
            "training... loss 2.3827: 100%|██████████| 49/49 [00:22<00:00,  2.19it/s]\n"
          ]
        },
        {
          "output_type": "stream",
          "name": "stdout",
          "text": [
            "Adjusting learning rate of group 0 to 9.7504e-02.\n",
            "Epoch 54/500 loss 2.3827 acc 0.2706 test_acc 0.2731\n"
          ]
        },
        {
          "output_type": "stream",
          "name": "stderr",
          "text": [
            "training... loss 2.4125: 100%|██████████| 49/49 [00:22<00:00,  2.19it/s]\n"
          ]
        },
        {
          "output_type": "stream",
          "name": "stdout",
          "text": [
            "Adjusting learning rate of group 0 to 9.7404e-02.\n",
            "Epoch 55/500 loss 2.4125 acc 0.2706 test_acc 0.2731\n"
          ]
        },
        {
          "output_type": "stream",
          "name": "stderr",
          "text": [
            "training... loss 2.3842: 100%|██████████| 49/49 [00:22<00:00,  2.21it/s]\n"
          ]
        },
        {
          "output_type": "stream",
          "name": "stdout",
          "text": [
            "Adjusting learning rate of group 0 to 9.7302e-02.\n",
            "Epoch 56/500 loss 2.3842 acc 0.2706 test_acc 0.2731\n"
          ]
        },
        {
          "output_type": "stream",
          "name": "stderr",
          "text": [
            "training... loss 2.4707: 100%|██████████| 49/49 [00:22<00:00,  2.19it/s]\n"
          ]
        },
        {
          "output_type": "stream",
          "name": "stdout",
          "text": [
            "Adjusting learning rate of group 0 to 9.7198e-02.\n",
            "Epoch 57/500 loss 2.4707 acc 0.2706 test_acc 0.2731\n"
          ]
        },
        {
          "output_type": "stream",
          "name": "stderr",
          "text": [
            "training... loss 2.5674: 100%|██████████| 49/49 [00:22<00:00,  2.19it/s]\n"
          ]
        },
        {
          "output_type": "stream",
          "name": "stdout",
          "text": [
            "Adjusting learning rate of group 0 to 9.7092e-02.\n",
            "Epoch 58/500 loss 2.5674 acc 0.2706 test_acc 0.2731\n"
          ]
        },
        {
          "output_type": "stream",
          "name": "stderr",
          "text": [
            "training... loss 2.3831: 100%|██████████| 49/49 [00:22<00:00,  2.19it/s]\n"
          ]
        },
        {
          "output_type": "stream",
          "name": "stdout",
          "text": [
            "Adjusting learning rate of group 0 to 9.6985e-02.\n",
            "Epoch 59/500 loss 2.3831 acc 0.2706 test_acc 0.2731\n"
          ]
        },
        {
          "output_type": "stream",
          "name": "stderr",
          "text": [
            "training... loss 2.3385: 100%|██████████| 49/49 [00:22<00:00,  2.20it/s]\n"
          ]
        },
        {
          "output_type": "stream",
          "name": "stdout",
          "text": [
            "Adjusting learning rate of group 0 to 9.6875e-02.\n",
            "Epoch 60/500 loss 2.3385 acc 0.2706 test_acc 0.2731\n",
            "evaluating ...\n",
            "Files already downloaded and verified\n",
            "Files already downloaded and verified\n"
          ]
        },
        {
          "output_type": "stream",
          "name": "stderr",
          "text": [
            "training... loss 2.0870 acc 0.2460: 100%|██████████| 49/49 [00:06<00:00,  7.12it/s]\n",
            "testing... loss 1.9919 acc 0.2790: 100%|██████████| 10/10 [00:03<00:00,  3.31it/s]\n"
          ]
        },
        {
          "output_type": "stream",
          "name": "stdout",
          "text": [
            "Epoch 1/3 loss 2.0870 acc 0.2460 test_loss 1.9919 test_acc 0.2790\n"
          ]
        },
        {
          "output_type": "stream",
          "name": "stderr",
          "text": [
            "training... loss 1.9841 acc 0.2822: 100%|██████████| 49/49 [00:06<00:00,  7.29it/s]\n",
            "testing... loss 1.9796 acc 0.2847: 100%|██████████| 10/10 [00:03<00:00,  3.31it/s]\n"
          ]
        },
        {
          "output_type": "stream",
          "name": "stdout",
          "text": [
            "Epoch 2/3 loss 1.9841 acc 0.2822 test_loss 1.9796 test_acc 0.2847\n"
          ]
        },
        {
          "output_type": "stream",
          "name": "stderr",
          "text": [
            "training... loss 1.9745 acc 0.2866: 100%|██████████| 49/49 [00:06<00:00,  7.47it/s]\n",
            "testing... loss 1.9721 acc 0.2890: 100%|██████████| 10/10 [00:03<00:00,  3.28it/s]\n"
          ]
        },
        {
          "output_type": "stream",
          "name": "stdout",
          "text": [
            "Epoch 3/3 loss 1.9745 acc 0.2866 test_loss 1.9721 test_acc 0.2890\n"
          ]
        },
        {
          "output_type": "stream",
          "name": "stderr",
          "text": [
            "training... loss 2.3094: 100%|██████████| 49/49 [00:22<00:00,  2.19it/s]\n"
          ]
        },
        {
          "output_type": "stream",
          "name": "stdout",
          "text": [
            "Adjusting learning rate of group 0 to 9.6764e-02.\n",
            "Epoch 61/500 loss 2.3094 acc 0.2866 test_acc 0.2890\n"
          ]
        },
        {
          "output_type": "stream",
          "name": "stderr",
          "text": [
            "training... loss 2.3021: 100%|██████████| 49/49 [00:22<00:00,  2.19it/s]\n"
          ]
        },
        {
          "output_type": "stream",
          "name": "stdout",
          "text": [
            "Adjusting learning rate of group 0 to 9.6651e-02.\n",
            "Epoch 62/500 loss 2.3021 acc 0.2866 test_acc 0.2890\n"
          ]
        },
        {
          "output_type": "stream",
          "name": "stderr",
          "text": [
            "training... loss 2.2854: 100%|██████████| 49/49 [00:22<00:00,  2.20it/s]\n"
          ]
        },
        {
          "output_type": "stream",
          "name": "stdout",
          "text": [
            "Adjusting learning rate of group 0 to 9.6535e-02.\n",
            "Epoch 63/500 loss 2.2854 acc 0.2866 test_acc 0.2890\n"
          ]
        },
        {
          "output_type": "stream",
          "name": "stderr",
          "text": [
            "training... loss 2.2684: 100%|██████████| 49/49 [00:23<00:00,  2.10it/s]\n"
          ]
        },
        {
          "output_type": "stream",
          "name": "stdout",
          "text": [
            "Adjusting learning rate of group 0 to 9.6418e-02.\n",
            "Epoch 64/500 loss 2.2684 acc 0.2866 test_acc 0.2890\n"
          ]
        },
        {
          "output_type": "stream",
          "name": "stderr",
          "text": [
            "training... loss 2.5509: 100%|██████████| 49/49 [00:22<00:00,  2.20it/s]\n"
          ]
        },
        {
          "output_type": "stream",
          "name": "stdout",
          "text": [
            "Adjusting learning rate of group 0 to 9.6300e-02.\n",
            "Epoch 65/500 loss 2.5509 acc 0.2866 test_acc 0.2890\n"
          ]
        },
        {
          "output_type": "stream",
          "name": "stderr",
          "text": [
            "training... loss 2.5877: 100%|██████████| 49/49 [00:22<00:00,  2.19it/s]\n"
          ]
        },
        {
          "output_type": "stream",
          "name": "stdout",
          "text": [
            "Adjusting learning rate of group 0 to 9.6179e-02.\n",
            "Epoch 66/500 loss 2.5877 acc 0.2866 test_acc 0.2890\n"
          ]
        },
        {
          "output_type": "stream",
          "name": "stderr",
          "text": [
            "training... loss 2.3407: 100%|██████████| 49/49 [00:22<00:00,  2.20it/s]\n"
          ]
        },
        {
          "output_type": "stream",
          "name": "stdout",
          "text": [
            "Adjusting learning rate of group 0 to 9.6056e-02.\n",
            "Epoch 67/500 loss 2.3407 acc 0.2866 test_acc 0.2890\n"
          ]
        },
        {
          "output_type": "stream",
          "name": "stderr",
          "text": [
            "training... loss 2.2816: 100%|██████████| 49/49 [00:22<00:00,  2.19it/s]\n"
          ]
        },
        {
          "output_type": "stream",
          "name": "stdout",
          "text": [
            "Adjusting learning rate of group 0 to 9.5932e-02.\n",
            "Epoch 68/500 loss 2.2816 acc 0.2866 test_acc 0.2890\n"
          ]
        },
        {
          "output_type": "stream",
          "name": "stderr",
          "text": [
            "training... loss 2.3249: 100%|██████████| 49/49 [00:22<00:00,  2.19it/s]\n"
          ]
        },
        {
          "output_type": "stream",
          "name": "stdout",
          "text": [
            "Adjusting learning rate of group 0 to 9.5805e-02.\n",
            "Epoch 69/500 loss 2.3249 acc 0.2866 test_acc 0.2890\n"
          ]
        },
        {
          "output_type": "stream",
          "name": "stderr",
          "text": [
            "training... loss 2.2789: 100%|██████████| 49/49 [00:22<00:00,  2.20it/s]\n"
          ]
        },
        {
          "output_type": "stream",
          "name": "stdout",
          "text": [
            "Adjusting learning rate of group 0 to 9.5677e-02.\n",
            "Epoch 70/500 loss 2.2789 acc 0.2866 test_acc 0.2890\n",
            "evaluating ...\n",
            "Files already downloaded and verified\n",
            "Files already downloaded and verified\n"
          ]
        },
        {
          "output_type": "stream",
          "name": "stderr",
          "text": [
            "training... loss 2.0883 acc 0.2502: 100%|██████████| 49/49 [00:06<00:00,  7.11it/s]\n",
            "testing... loss 1.9905 acc 0.2841: 100%|██████████| 10/10 [00:03<00:00,  3.20it/s]\n"
          ]
        },
        {
          "output_type": "stream",
          "name": "stdout",
          "text": [
            "Epoch 1/3 loss 2.0883 acc 0.2502 test_loss 1.9905 test_acc 0.2841\n"
          ]
        },
        {
          "output_type": "stream",
          "name": "stderr",
          "text": [
            "training... loss 1.9862 acc 0.2826: 100%|██████████| 49/49 [00:06<00:00,  7.44it/s]\n",
            "testing... loss 1.9794 acc 0.2844: 100%|██████████| 10/10 [00:03<00:00,  3.17it/s]\n"
          ]
        },
        {
          "output_type": "stream",
          "name": "stdout",
          "text": [
            "Epoch 2/3 loss 1.9862 acc 0.2826 test_loss 1.9794 test_acc 0.2844\n"
          ]
        },
        {
          "output_type": "stream",
          "name": "stderr",
          "text": [
            "training... loss 1.9737 acc 0.2876: 100%|██████████| 49/49 [00:06<00:00,  7.26it/s]\n",
            "testing... loss 1.9755 acc 0.2855: 100%|██████████| 10/10 [00:03<00:00,  3.22it/s]\n"
          ]
        },
        {
          "output_type": "stream",
          "name": "stdout",
          "text": [
            "Epoch 3/3 loss 1.9737 acc 0.2876 test_loss 1.9755 test_acc 0.2855\n"
          ]
        },
        {
          "output_type": "stream",
          "name": "stderr",
          "text": [
            "training... loss 2.2247: 100%|██████████| 49/49 [00:22<00:00,  2.18it/s]\n"
          ]
        },
        {
          "output_type": "stream",
          "name": "stdout",
          "text": [
            "Adjusting learning rate of group 0 to 9.5547e-02.\n",
            "Epoch 71/500 loss 2.2247 acc 0.2876 test_acc 0.2855\n"
          ]
        },
        {
          "output_type": "stream",
          "name": "stderr",
          "text": [
            "training... loss 2.2181: 100%|██████████| 49/49 [00:22<00:00,  2.18it/s]\n"
          ]
        },
        {
          "output_type": "stream",
          "name": "stdout",
          "text": [
            "Adjusting learning rate of group 0 to 9.5415e-02.\n",
            "Epoch 72/500 loss 2.2181 acc 0.2876 test_acc 0.2855\n"
          ]
        },
        {
          "output_type": "stream",
          "name": "stderr",
          "text": [
            "training... loss 2.2380: 100%|██████████| 49/49 [00:22<00:00,  2.19it/s]\n"
          ]
        },
        {
          "output_type": "stream",
          "name": "stdout",
          "text": [
            "Adjusting learning rate of group 0 to 9.5282e-02.\n",
            "Epoch 73/500 loss 2.2380 acc 0.2876 test_acc 0.2855\n"
          ]
        },
        {
          "output_type": "stream",
          "name": "stderr",
          "text": [
            "training... loss 2.2300: 100%|██████████| 49/49 [00:22<00:00,  2.19it/s]\n"
          ]
        },
        {
          "output_type": "stream",
          "name": "stdout",
          "text": [
            "Adjusting learning rate of group 0 to 9.5146e-02.\n",
            "Epoch 74/500 loss 2.2300 acc 0.2876 test_acc 0.2855\n"
          ]
        },
        {
          "output_type": "stream",
          "name": "stderr",
          "text": [
            "training... loss 2.2377: 100%|██████████| 49/49 [00:22<00:00,  2.18it/s]\n"
          ]
        },
        {
          "output_type": "stream",
          "name": "stdout",
          "text": [
            "Adjusting learning rate of group 0 to 9.5009e-02.\n",
            "Epoch 75/500 loss 2.2377 acc 0.2876 test_acc 0.2855\n"
          ]
        },
        {
          "output_type": "stream",
          "name": "stderr",
          "text": [
            "training... loss 5.4350: 100%|██████████| 49/49 [00:22<00:00,  2.19it/s]\n"
          ]
        },
        {
          "output_type": "stream",
          "name": "stdout",
          "text": [
            "Adjusting learning rate of group 0 to 9.4870e-02.\n",
            "Epoch 76/500 loss 5.4350 acc 0.2876 test_acc 0.2855\n"
          ]
        },
        {
          "output_type": "stream",
          "name": "stderr",
          "text": [
            "training... loss 4.1518: 100%|██████████| 49/49 [00:22<00:00,  2.19it/s]\n"
          ]
        },
        {
          "output_type": "stream",
          "name": "stdout",
          "text": [
            "Adjusting learning rate of group 0 to 9.4729e-02.\n",
            "Epoch 77/500 loss 4.1518 acc 0.2876 test_acc 0.2855\n"
          ]
        },
        {
          "output_type": "stream",
          "name": "stderr",
          "text": [
            "training... loss 3.6221: 100%|██████████| 49/49 [00:22<00:00,  2.18it/s]\n"
          ]
        },
        {
          "output_type": "stream",
          "name": "stdout",
          "text": [
            "Adjusting learning rate of group 0 to 9.4586e-02.\n",
            "Epoch 78/500 loss 3.6221 acc 0.2876 test_acc 0.2855\n"
          ]
        },
        {
          "output_type": "stream",
          "name": "stderr",
          "text": [
            "training... loss 3.4691: 100%|██████████| 49/49 [00:22<00:00,  2.18it/s]\n"
          ]
        },
        {
          "output_type": "stream",
          "name": "stdout",
          "text": [
            "Adjusting learning rate of group 0 to 9.4442e-02.\n",
            "Epoch 79/500 loss 3.4691 acc 0.2876 test_acc 0.2855\n"
          ]
        },
        {
          "output_type": "stream",
          "name": "stderr",
          "text": [
            "training... loss 3.3106: 100%|██████████| 49/49 [00:22<00:00,  2.18it/s]\n"
          ]
        },
        {
          "output_type": "stream",
          "name": "stdout",
          "text": [
            "Adjusting learning rate of group 0 to 9.4295e-02.\n",
            "Epoch 80/500 loss 3.3106 acc 0.2876 test_acc 0.2855\n",
            "evaluating ...\n",
            "Files already downloaded and verified\n",
            "Files already downloaded and verified\n"
          ]
        },
        {
          "output_type": "stream",
          "name": "stderr",
          "text": [
            "training... loss 2.1041 acc 0.2468: 100%|██████████| 49/49 [00:06<00:00,  7.11it/s]\n",
            "testing... loss 1.9865 acc 0.2748: 100%|██████████| 10/10 [00:03<00:00,  3.17it/s]\n"
          ]
        },
        {
          "output_type": "stream",
          "name": "stdout",
          "text": [
            "Epoch 1/3 loss 2.1041 acc 0.2468 test_loss 1.9865 test_acc 0.2748\n"
          ]
        },
        {
          "output_type": "stream",
          "name": "stderr",
          "text": [
            "training... loss 1.9815 acc 0.2807: 100%|██████████| 49/49 [00:06<00:00,  7.25it/s]\n",
            "testing... loss 1.9658 acc 0.2868: 100%|██████████| 10/10 [00:03<00:00,  3.23it/s]\n"
          ]
        },
        {
          "output_type": "stream",
          "name": "stdout",
          "text": [
            "Epoch 2/3 loss 1.9815 acc 0.2807 test_loss 1.9658 test_acc 0.2868\n"
          ]
        },
        {
          "output_type": "stream",
          "name": "stderr",
          "text": [
            "training... loss 1.9662 acc 0.2872: 100%|██████████| 49/49 [00:06<00:00,  7.27it/s]\n",
            "testing... loss 1.9628 acc 0.2903: 100%|██████████| 10/10 [00:03<00:00,  3.07it/s]\n"
          ]
        },
        {
          "output_type": "stream",
          "name": "stdout",
          "text": [
            "Epoch 3/3 loss 1.9662 acc 0.2872 test_loss 1.9628 test_acc 0.2903\n"
          ]
        },
        {
          "output_type": "stream",
          "name": "stderr",
          "text": [
            "training... loss 3.2368: 100%|██████████| 49/49 [00:22<00:00,  2.17it/s]\n"
          ]
        },
        {
          "output_type": "stream",
          "name": "stdout",
          "text": [
            "Adjusting learning rate of group 0 to 9.4147e-02.\n",
            "Epoch 81/500 loss 3.2368 acc 0.2872 test_acc 0.2903\n"
          ]
        },
        {
          "output_type": "stream",
          "name": "stderr",
          "text": [
            "training... loss 4.0953: 100%|██████████| 49/49 [00:22<00:00,  2.18it/s]\n"
          ]
        },
        {
          "output_type": "stream",
          "name": "stdout",
          "text": [
            "Adjusting learning rate of group 0 to 9.3998e-02.\n",
            "Epoch 82/500 loss 4.0953 acc 0.2872 test_acc 0.2903\n"
          ]
        },
        {
          "output_type": "stream",
          "name": "stderr",
          "text": [
            "training... loss 5.3463: 100%|██████████| 49/49 [00:23<00:00,  2.10it/s]\n"
          ]
        },
        {
          "output_type": "stream",
          "name": "stdout",
          "text": [
            "Adjusting learning rate of group 0 to 9.3846e-02.\n",
            "Epoch 83/500 loss 5.3463 acc 0.2872 test_acc 0.2903\n"
          ]
        },
        {
          "output_type": "stream",
          "name": "stderr",
          "text": [
            "training... loss 4.2606: 100%|██████████| 49/49 [00:22<00:00,  2.17it/s]\n"
          ]
        },
        {
          "output_type": "stream",
          "name": "stdout",
          "text": [
            "Adjusting learning rate of group 0 to 9.3692e-02.\n",
            "Epoch 84/500 loss 4.2606 acc 0.2872 test_acc 0.2903\n"
          ]
        },
        {
          "output_type": "stream",
          "name": "stderr",
          "text": [
            "training... loss 4.0980: 100%|██████████| 49/49 [00:22<00:00,  2.17it/s]\n"
          ]
        },
        {
          "output_type": "stream",
          "name": "stdout",
          "text": [
            "Adjusting learning rate of group 0 to 9.3537e-02.\n",
            "Epoch 85/500 loss 4.0980 acc 0.2872 test_acc 0.2903\n"
          ]
        },
        {
          "output_type": "stream",
          "name": "stderr",
          "text": [
            "training... loss 4.0034: 100%|██████████| 49/49 [00:22<00:00,  2.19it/s]\n"
          ]
        },
        {
          "output_type": "stream",
          "name": "stdout",
          "text": [
            "Adjusting learning rate of group 0 to 9.3380e-02.\n",
            "Epoch 86/500 loss 4.0034 acc 0.2872 test_acc 0.2903\n"
          ]
        },
        {
          "output_type": "stream",
          "name": "stderr",
          "text": [
            "training... loss 3.9274: 100%|██████████| 49/49 [00:22<00:00,  2.18it/s]\n"
          ]
        },
        {
          "output_type": "stream",
          "name": "stdout",
          "text": [
            "Adjusting learning rate of group 0 to 9.3222e-02.\n",
            "Epoch 87/500 loss 3.9274 acc 0.2872 test_acc 0.2903\n"
          ]
        },
        {
          "output_type": "stream",
          "name": "stderr",
          "text": [
            "training... loss 3.8443: 100%|██████████| 49/49 [00:22<00:00,  2.18it/s]\n"
          ]
        },
        {
          "output_type": "stream",
          "name": "stdout",
          "text": [
            "Adjusting learning rate of group 0 to 9.3061e-02.\n",
            "Epoch 88/500 loss 3.8443 acc 0.2872 test_acc 0.2903\n"
          ]
        },
        {
          "output_type": "stream",
          "name": "stderr",
          "text": [
            "training... loss 3.7893: 100%|██████████| 49/49 [00:22<00:00,  2.18it/s]\n"
          ]
        },
        {
          "output_type": "stream",
          "name": "stdout",
          "text": [
            "Adjusting learning rate of group 0 to 9.2899e-02.\n",
            "Epoch 89/500 loss 3.7893 acc 0.2872 test_acc 0.2903\n"
          ]
        },
        {
          "output_type": "stream",
          "name": "stderr",
          "text": [
            "training... loss 3.8216: 100%|██████████| 49/49 [00:22<00:00,  2.18it/s]\n"
          ]
        },
        {
          "output_type": "stream",
          "name": "stdout",
          "text": [
            "Adjusting learning rate of group 0 to 9.2735e-02.\n",
            "Epoch 90/500 loss 3.8216 acc 0.2872 test_acc 0.2903\n",
            "evaluating ...\n",
            "Files already downloaded and verified\n",
            "Files already downloaded and verified\n"
          ]
        },
        {
          "output_type": "stream",
          "name": "stderr",
          "text": [
            "training... loss 2.0964 acc 0.2589: 100%|██████████| 49/49 [00:06<00:00,  7.02it/s]\n",
            "testing... loss 1.9731 acc 0.2941: 100%|██████████| 10/10 [00:03<00:00,  3.11it/s]\n"
          ]
        },
        {
          "output_type": "stream",
          "name": "stdout",
          "text": [
            "Epoch 1/3 loss 2.0964 acc 0.2589 test_loss 1.9731 test_acc 0.2941\n"
          ]
        },
        {
          "output_type": "stream",
          "name": "stderr",
          "text": [
            "training... loss 1.9618 acc 0.2944: 100%|██████████| 49/49 [00:06<00:00,  7.23it/s]\n",
            "testing... loss 1.9550 acc 0.2986: 100%|██████████| 10/10 [00:03<00:00,  3.07it/s]\n"
          ]
        },
        {
          "output_type": "stream",
          "name": "stdout",
          "text": [
            "Epoch 2/3 loss 1.9618 acc 0.2944 test_loss 1.9550 test_acc 0.2986\n"
          ]
        },
        {
          "output_type": "stream",
          "name": "stderr",
          "text": [
            "training... loss 1.9494 acc 0.2983: 100%|██████████| 49/49 [00:06<00:00,  7.13it/s]\n",
            "testing... loss 1.9547 acc 0.2988: 100%|██████████| 10/10 [00:03<00:00,  3.07it/s]\n"
          ]
        },
        {
          "output_type": "stream",
          "name": "stdout",
          "text": [
            "Epoch 3/3 loss 1.9494 acc 0.2983 test_loss 1.9547 test_acc 0.2988\n"
          ]
        },
        {
          "output_type": "stream",
          "name": "stderr",
          "text": [
            "training... loss 3.6929: 100%|██████████| 49/49 [00:22<00:00,  2.16it/s]\n"
          ]
        },
        {
          "output_type": "stream",
          "name": "stdout",
          "text": [
            "Adjusting learning rate of group 0 to 9.2570e-02.\n",
            "Epoch 91/500 loss 3.6929 acc 0.2983 test_acc 0.2988\n"
          ]
        },
        {
          "output_type": "stream",
          "name": "stderr",
          "text": [
            "training... loss 3.5887: 100%|██████████| 49/49 [00:22<00:00,  2.18it/s]\n"
          ]
        },
        {
          "output_type": "stream",
          "name": "stdout",
          "text": [
            "Adjusting learning rate of group 0 to 9.2402e-02.\n",
            "Epoch 92/500 loss 3.5887 acc 0.2983 test_acc 0.2988\n"
          ]
        },
        {
          "output_type": "stream",
          "name": "stderr",
          "text": [
            "training... loss 3.5617: 100%|██████████| 49/49 [00:22<00:00,  2.17it/s]\n"
          ]
        },
        {
          "output_type": "stream",
          "name": "stdout",
          "text": [
            "Adjusting learning rate of group 0 to 9.2233e-02.\n",
            "Epoch 93/500 loss 3.5617 acc 0.2983 test_acc 0.2988\n"
          ]
        },
        {
          "output_type": "stream",
          "name": "stderr",
          "text": [
            "training... loss 5.9936: 100%|██████████| 49/49 [00:22<00:00,  2.17it/s]\n"
          ]
        },
        {
          "output_type": "stream",
          "name": "stdout",
          "text": [
            "Adjusting learning rate of group 0 to 9.2063e-02.\n",
            "Epoch 94/500 loss 5.9936 acc 0.2983 test_acc 0.2988\n"
          ]
        },
        {
          "output_type": "stream",
          "name": "stderr",
          "text": [
            "training... loss 6.7577: 100%|██████████| 49/49 [00:22<00:00,  2.17it/s]\n"
          ]
        },
        {
          "output_type": "stream",
          "name": "stdout",
          "text": [
            "Adjusting learning rate of group 0 to 9.1890e-02.\n",
            "Epoch 95/500 loss 6.7577 acc 0.2983 test_acc 0.2988\n"
          ]
        },
        {
          "output_type": "stream",
          "name": "stderr",
          "text": [
            "training... loss 5.5201: 100%|██████████| 49/49 [00:22<00:00,  2.17it/s]\n"
          ]
        },
        {
          "output_type": "stream",
          "name": "stdout",
          "text": [
            "Adjusting learning rate of group 0 to 9.1716e-02.\n",
            "Epoch 96/500 loss 5.5201 acc 0.2983 test_acc 0.2988\n"
          ]
        },
        {
          "output_type": "stream",
          "name": "stderr",
          "text": [
            "training... loss 5.3227: 100%|██████████| 49/49 [00:22<00:00,  2.17it/s]\n"
          ]
        },
        {
          "output_type": "stream",
          "name": "stdout",
          "text": [
            "Adjusting learning rate of group 0 to 9.1540e-02.\n",
            "Epoch 97/500 loss 5.3227 acc 0.2983 test_acc 0.2988\n"
          ]
        },
        {
          "output_type": "stream",
          "name": "stderr",
          "text": [
            "training... loss 5.1908: 100%|██████████| 49/49 [00:22<00:00,  2.18it/s]\n"
          ]
        },
        {
          "output_type": "stream",
          "name": "stdout",
          "text": [
            "Adjusting learning rate of group 0 to 9.1363e-02.\n",
            "Epoch 98/500 loss 5.1908 acc 0.2983 test_acc 0.2988\n"
          ]
        },
        {
          "output_type": "stream",
          "name": "stderr",
          "text": [
            "training... loss 5.0743: 100%|██████████| 49/49 [00:22<00:00,  2.16it/s]\n"
          ]
        },
        {
          "output_type": "stream",
          "name": "stdout",
          "text": [
            "Adjusting learning rate of group 0 to 9.1184e-02.\n",
            "Epoch 99/500 loss 5.0743 acc 0.2983 test_acc 0.2988\n"
          ]
        },
        {
          "output_type": "stream",
          "name": "stderr",
          "text": [
            "training... loss 4.9738: 100%|██████████| 49/49 [00:22<00:00,  2.17it/s]\n"
          ]
        },
        {
          "output_type": "stream",
          "name": "stdout",
          "text": [
            "Adjusting learning rate of group 0 to 9.1003e-02.\n",
            "Epoch 100/500 loss 4.9738 acc 0.2983 test_acc 0.2988\n",
            "evaluating ...\n",
            "Files already downloaded and verified\n",
            "Files already downloaded and verified\n"
          ]
        },
        {
          "output_type": "stream",
          "name": "stderr",
          "text": [
            "training... loss 2.2281 acc 0.2222: 100%|██████████| 49/49 [00:07<00:00,  6.88it/s]\n",
            "testing... loss 2.0506 acc 0.2601: 100%|██████████| 10/10 [00:03<00:00,  3.02it/s]\n"
          ]
        },
        {
          "output_type": "stream",
          "name": "stdout",
          "text": [
            "Epoch 1/3 loss 2.2281 acc 0.2222 test_loss 2.0506 test_acc 0.2601\n"
          ]
        },
        {
          "output_type": "stream",
          "name": "stderr",
          "text": [
            "training... loss 2.0250 acc 0.2653: 100%|██████████| 49/49 [00:06<00:00,  7.22it/s]\n",
            "testing... loss 2.0136 acc 0.2733: 100%|██████████| 10/10 [00:03<00:00,  3.10it/s]\n"
          ]
        },
        {
          "output_type": "stream",
          "name": "stdout",
          "text": [
            "Epoch 2/3 loss 2.0250 acc 0.2653 test_loss 2.0136 test_acc 0.2733\n"
          ]
        },
        {
          "output_type": "stream",
          "name": "stderr",
          "text": [
            "training... loss 2.0052 acc 0.2745: 100%|██████████| 49/49 [00:06<00:00,  7.13it/s]\n",
            "testing... loss 2.0013 acc 0.2797: 100%|██████████| 10/10 [00:03<00:00,  3.03it/s]\n"
          ]
        },
        {
          "output_type": "stream",
          "name": "stdout",
          "text": [
            "Epoch 3/3 loss 2.0052 acc 0.2745 test_loss 2.0013 test_acc 0.2797\n"
          ]
        },
        {
          "output_type": "stream",
          "name": "stderr",
          "text": [
            "training... loss 4.9919: 100%|██████████| 49/49 [00:23<00:00,  2.12it/s]\n"
          ]
        },
        {
          "output_type": "stream",
          "name": "stdout",
          "text": [
            "Adjusting learning rate of group 0 to 9.0821e-02.\n",
            "Epoch 101/500 loss 4.9919 acc 0.2745 test_acc 0.2797\n"
          ]
        },
        {
          "output_type": "stream",
          "name": "stderr",
          "text": [
            "training... loss 5.0538: 100%|██████████| 49/49 [00:22<00:00,  2.16it/s]\n"
          ]
        },
        {
          "output_type": "stream",
          "name": "stdout",
          "text": [
            "Adjusting learning rate of group 0 to 9.0637e-02.\n",
            "Epoch 102/500 loss 5.0538 acc 0.2745 test_acc 0.2797\n"
          ]
        },
        {
          "output_type": "stream",
          "name": "stderr",
          "text": [
            "training... loss 4.8401: 100%|██████████| 49/49 [00:22<00:00,  2.18it/s]\n"
          ]
        },
        {
          "output_type": "stream",
          "name": "stdout",
          "text": [
            "Adjusting learning rate of group 0 to 9.0451e-02.\n",
            "Epoch 103/500 loss 4.8401 acc 0.2745 test_acc 0.2797\n"
          ]
        },
        {
          "output_type": "stream",
          "name": "stderr",
          "text": [
            "training... loss 4.7494: 100%|██████████| 49/49 [00:22<00:00,  2.17it/s]\n"
          ]
        },
        {
          "output_type": "stream",
          "name": "stdout",
          "text": [
            "Adjusting learning rate of group 0 to 9.0264e-02.\n",
            "Epoch 104/500 loss 4.7494 acc 0.2745 test_acc 0.2797\n"
          ]
        },
        {
          "output_type": "stream",
          "name": "stderr",
          "text": [
            "training... loss 4.7438: 100%|██████████| 49/49 [00:22<00:00,  2.16it/s]\n"
          ]
        },
        {
          "output_type": "stream",
          "name": "stdout",
          "text": [
            "Adjusting learning rate of group 0 to 9.0075e-02.\n",
            "Epoch 105/500 loss 4.7438 acc 0.2745 test_acc 0.2797\n"
          ]
        },
        {
          "output_type": "stream",
          "name": "stderr",
          "text": [
            "training... loss 5.1311: 100%|██████████| 49/49 [00:22<00:00,  2.16it/s]\n"
          ]
        },
        {
          "output_type": "stream",
          "name": "stdout",
          "text": [
            "Adjusting learning rate of group 0 to 8.9884e-02.\n",
            "Epoch 106/500 loss 5.1311 acc 0.2745 test_acc 0.2797\n"
          ]
        },
        {
          "output_type": "stream",
          "name": "stderr",
          "text": [
            "training... loss 4.7035: 100%|██████████| 49/49 [00:22<00:00,  2.18it/s]\n"
          ]
        },
        {
          "output_type": "stream",
          "name": "stdout",
          "text": [
            "Adjusting learning rate of group 0 to 8.9692e-02.\n",
            "Epoch 107/500 loss 4.7035 acc 0.2745 test_acc 0.2797\n"
          ]
        },
        {
          "output_type": "stream",
          "name": "stderr",
          "text": [
            "training... loss 7.0670: 100%|██████████| 49/49 [00:22<00:00,  2.16it/s]\n"
          ]
        },
        {
          "output_type": "stream",
          "name": "stdout",
          "text": [
            "Adjusting learning rate of group 0 to 8.9498e-02.\n",
            "Epoch 108/500 loss 7.0670 acc 0.2745 test_acc 0.2797\n"
          ]
        },
        {
          "output_type": "stream",
          "name": "stderr",
          "text": [
            "training... loss 6.7188: 100%|██████████| 49/49 [00:22<00:00,  2.17it/s]\n"
          ]
        },
        {
          "output_type": "stream",
          "name": "stdout",
          "text": [
            "Adjusting learning rate of group 0 to 8.9303e-02.\n",
            "Epoch 109/500 loss 6.7188 acc 0.2745 test_acc 0.2797\n"
          ]
        },
        {
          "output_type": "stream",
          "name": "stderr",
          "text": [
            "training... loss 5.7810: 100%|██████████| 49/49 [00:22<00:00,  2.16it/s]\n"
          ]
        },
        {
          "output_type": "stream",
          "name": "stdout",
          "text": [
            "Adjusting learning rate of group 0 to 8.9106e-02.\n",
            "Epoch 110/500 loss 5.7810 acc 0.2745 test_acc 0.2797\n",
            "evaluating ...\n",
            "Files already downloaded and verified\n",
            "Files already downloaded and verified\n"
          ]
        },
        {
          "output_type": "stream",
          "name": "stderr",
          "text": [
            "training... loss 2.3518 acc 0.2105: 100%|██████████| 49/49 [00:07<00:00,  6.96it/s]\n",
            "testing... loss 2.0880 acc 0.2495: 100%|██████████| 10/10 [00:03<00:00,  2.98it/s]\n"
          ]
        },
        {
          "output_type": "stream",
          "name": "stdout",
          "text": [
            "Epoch 1/3 loss 2.3518 acc 0.2105 test_loss 2.0880 test_acc 0.2495\n"
          ]
        },
        {
          "output_type": "stream",
          "name": "stderr",
          "text": [
            "training... loss 2.0727 acc 0.2575: 100%|██████████| 49/49 [00:06<00:00,  7.12it/s]\n",
            "testing... loss 2.0552 acc 0.2598: 100%|██████████| 10/10 [00:03<00:00,  2.98it/s]\n"
          ]
        },
        {
          "output_type": "stream",
          "name": "stdout",
          "text": [
            "Epoch 2/3 loss 2.0727 acc 0.2575 test_loss 2.0552 test_acc 0.2598\n"
          ]
        },
        {
          "output_type": "stream",
          "name": "stderr",
          "text": [
            "training... loss 2.0556 acc 0.2584: 100%|██████████| 49/49 [00:06<00:00,  7.16it/s]\n",
            "testing... loss 2.0377 acc 0.2662: 100%|██████████| 10/10 [00:03<00:00,  3.02it/s]\n"
          ]
        },
        {
          "output_type": "stream",
          "name": "stdout",
          "text": [
            "Epoch 3/3 loss 2.0556 acc 0.2584 test_loss 2.0377 test_acc 0.2662\n"
          ]
        },
        {
          "output_type": "stream",
          "name": "stderr",
          "text": [
            "training... loss 5.6365: 100%|██████████| 49/49 [00:22<00:00,  2.15it/s]\n"
          ]
        },
        {
          "output_type": "stream",
          "name": "stdout",
          "text": [
            "Adjusting learning rate of group 0 to 8.8907e-02.\n",
            "Epoch 111/500 loss 5.6365 acc 0.2584 test_acc 0.2662\n"
          ]
        },
        {
          "output_type": "stream",
          "name": "stderr",
          "text": [
            "training... loss 5.5235: 100%|██████████| 49/49 [00:22<00:00,  2.15it/s]\n"
          ]
        },
        {
          "output_type": "stream",
          "name": "stdout",
          "text": [
            "Adjusting learning rate of group 0 to 8.8707e-02.\n",
            "Epoch 112/500 loss 5.5235 acc 0.2584 test_acc 0.2662\n"
          ]
        },
        {
          "output_type": "stream",
          "name": "stderr",
          "text": [
            "training... loss 5.3782: 100%|██████████| 49/49 [00:22<00:00,  2.17it/s]\n"
          ]
        },
        {
          "output_type": "stream",
          "name": "stdout",
          "text": [
            "Adjusting learning rate of group 0 to 8.8505e-02.\n",
            "Epoch 113/500 loss 5.3782 acc 0.2584 test_acc 0.2662\n"
          ]
        },
        {
          "output_type": "stream",
          "name": "stderr",
          "text": [
            "training... loss 5.3229: 100%|██████████| 49/49 [00:22<00:00,  2.16it/s]\n"
          ]
        },
        {
          "output_type": "stream",
          "name": "stdout",
          "text": [
            "Adjusting learning rate of group 0 to 8.8302e-02.\n",
            "Epoch 114/500 loss 5.3229 acc 0.2584 test_acc 0.2662\n"
          ]
        },
        {
          "output_type": "stream",
          "name": "stderr",
          "text": [
            "training... loss 5.2736: 100%|██████████| 49/49 [00:22<00:00,  2.16it/s]\n"
          ]
        },
        {
          "output_type": "stream",
          "name": "stdout",
          "text": [
            "Adjusting learning rate of group 0 to 8.8098e-02.\n",
            "Epoch 115/500 loss 5.2736 acc 0.2584 test_acc 0.2662\n"
          ]
        },
        {
          "output_type": "stream",
          "name": "stderr",
          "text": [
            "training... loss 5.4204: 100%|██████████| 49/49 [00:22<00:00,  2.17it/s]\n"
          ]
        },
        {
          "output_type": "stream",
          "name": "stdout",
          "text": [
            "Adjusting learning rate of group 0 to 8.7891e-02.\n",
            "Epoch 116/500 loss 5.4204 acc 0.2584 test_acc 0.2662\n"
          ]
        },
        {
          "output_type": "stream",
          "name": "stderr",
          "text": [
            "training... loss 5.2020: 100%|██████████| 49/49 [00:22<00:00,  2.18it/s]\n"
          ]
        },
        {
          "output_type": "stream",
          "name": "stdout",
          "text": [
            "Adjusting learning rate of group 0 to 8.7683e-02.\n",
            "Epoch 117/500 loss 5.2020 acc 0.2584 test_acc 0.2662\n"
          ]
        },
        {
          "output_type": "stream",
          "name": "stderr",
          "text": [
            "training... loss 5.2691: 100%|██████████| 49/49 [00:22<00:00,  2.16it/s]\n"
          ]
        },
        {
          "output_type": "stream",
          "name": "stdout",
          "text": [
            "Adjusting learning rate of group 0 to 8.7474e-02.\n",
            "Epoch 118/500 loss 5.2691 acc 0.2584 test_acc 0.2662\n"
          ]
        },
        {
          "output_type": "stream",
          "name": "stderr",
          "text": [
            "training... loss 5.2627: 100%|██████████| 49/49 [00:22<00:00,  2.15it/s]\n"
          ]
        },
        {
          "output_type": "stream",
          "name": "stdout",
          "text": [
            "Adjusting learning rate of group 0 to 8.7263e-02.\n",
            "Epoch 119/500 loss 5.2627 acc 0.2584 test_acc 0.2662\n"
          ]
        },
        {
          "output_type": "stream",
          "name": "stderr",
          "text": [
            "training... loss 5.2232: 100%|██████████| 49/49 [00:22<00:00,  2.16it/s]\n"
          ]
        },
        {
          "output_type": "stream",
          "name": "stdout",
          "text": [
            "Adjusting learning rate of group 0 to 8.7051e-02.\n",
            "Epoch 120/500 loss 5.2232 acc 0.2584 test_acc 0.2662\n",
            "evaluating ...\n",
            "Files already downloaded and verified\n",
            "Files already downloaded and verified\n"
          ]
        },
        {
          "output_type": "stream",
          "name": "stderr",
          "text": [
            "training... loss 2.3443 acc 0.2250: 100%|██████████| 49/49 [00:07<00:00,  6.84it/s]\n",
            "testing... loss 2.0517 acc 0.2672: 100%|██████████| 10/10 [00:03<00:00,  2.96it/s]\n"
          ]
        },
        {
          "output_type": "stream",
          "name": "stdout",
          "text": [
            "Epoch 1/3 loss 2.3443 acc 0.2250 test_loss 2.0517 test_acc 0.2672\n"
          ]
        },
        {
          "output_type": "stream",
          "name": "stderr",
          "text": [
            "training... loss 2.0383 acc 0.2669: 100%|██████████| 49/49 [00:06<00:00,  7.05it/s]\n",
            "testing... loss 2.0229 acc 0.2742: 100%|██████████| 10/10 [00:03<00:00,  2.56it/s]\n"
          ]
        },
        {
          "output_type": "stream",
          "name": "stdout",
          "text": [
            "Epoch 2/3 loss 2.0383 acc 0.2669 test_loss 2.0229 test_acc 0.2742\n"
          ]
        },
        {
          "output_type": "stream",
          "name": "stderr",
          "text": [
            "training... loss 2.0169 acc 0.2730: 100%|██████████| 49/49 [00:07<00:00,  6.74it/s]\n",
            "testing... loss 2.0129 acc 0.2787: 100%|██████████| 10/10 [00:03<00:00,  2.98it/s]\n"
          ]
        },
        {
          "output_type": "stream",
          "name": "stdout",
          "text": [
            "Epoch 3/3 loss 2.0169 acc 0.2730 test_loss 2.0129 test_acc 0.2787\n"
          ]
        },
        {
          "output_type": "stream",
          "name": "stderr",
          "text": [
            "training... loss 5.1342: 100%|██████████| 49/49 [00:22<00:00,  2.15it/s]\n"
          ]
        },
        {
          "output_type": "stream",
          "name": "stdout",
          "text": [
            "Adjusting learning rate of group 0 to 8.6837e-02.\n",
            "Epoch 121/500 loss 5.1342 acc 0.2730 test_acc 0.2787\n"
          ]
        },
        {
          "output_type": "stream",
          "name": "stderr",
          "text": [
            "training... loss 7.1196: 100%|██████████| 49/49 [00:22<00:00,  2.15it/s]\n"
          ]
        },
        {
          "output_type": "stream",
          "name": "stdout",
          "text": [
            "Adjusting learning rate of group 0 to 8.6622e-02.\n",
            "Epoch 122/500 loss 7.1196 acc 0.2730 test_acc 0.2787\n"
          ]
        },
        {
          "output_type": "stream",
          "name": "stderr",
          "text": [
            "training... loss 5.7730: 100%|██████████| 49/49 [00:22<00:00,  2.15it/s]\n"
          ]
        },
        {
          "output_type": "stream",
          "name": "stdout",
          "text": [
            "Adjusting learning rate of group 0 to 8.6405e-02.\n",
            "Epoch 123/500 loss 5.7730 acc 0.2730 test_acc 0.2787\n"
          ]
        },
        {
          "output_type": "stream",
          "name": "stderr",
          "text": [
            "training... loss 5.4856: 100%|██████████| 49/49 [00:22<00:00,  2.15it/s]\n"
          ]
        },
        {
          "output_type": "stream",
          "name": "stdout",
          "text": [
            "Adjusting learning rate of group 0 to 8.6187e-02.\n",
            "Epoch 124/500 loss 5.4856 acc 0.2730 test_acc 0.2787\n"
          ]
        },
        {
          "output_type": "stream",
          "name": "stderr",
          "text": [
            "training... loss 5.4254: 100%|██████████| 49/49 [00:22<00:00,  2.17it/s]\n"
          ]
        },
        {
          "output_type": "stream",
          "name": "stdout",
          "text": [
            "Adjusting learning rate of group 0 to 8.5967e-02.\n",
            "Epoch 125/500 loss 5.4254 acc 0.2730 test_acc 0.2787\n"
          ]
        },
        {
          "output_type": "stream",
          "name": "stderr",
          "text": [
            "training... loss 5.3970: 100%|██████████| 49/49 [00:22<00:00,  2.17it/s]\n"
          ]
        },
        {
          "output_type": "stream",
          "name": "stdout",
          "text": [
            "Adjusting learning rate of group 0 to 8.5746e-02.\n",
            "Epoch 126/500 loss 5.3970 acc 0.2730 test_acc 0.2787\n"
          ]
        },
        {
          "output_type": "stream",
          "name": "stderr",
          "text": [
            "training... loss 5.4409: 100%|██████████| 49/49 [00:22<00:00,  2.16it/s]\n"
          ]
        },
        {
          "output_type": "stream",
          "name": "stdout",
          "text": [
            "Adjusting learning rate of group 0 to 8.5523e-02.\n",
            "Epoch 127/500 loss 5.4409 acc 0.2730 test_acc 0.2787\n"
          ]
        },
        {
          "output_type": "stream",
          "name": "stderr",
          "text": [
            "training... loss 5.2963: 100%|██████████| 49/49 [00:22<00:00,  2.15it/s]\n"
          ]
        },
        {
          "output_type": "stream",
          "name": "stdout",
          "text": [
            "Adjusting learning rate of group 0 to 8.5299e-02.\n",
            "Epoch 128/500 loss 5.2963 acc 0.2730 test_acc 0.2787\n"
          ]
        },
        {
          "output_type": "stream",
          "name": "stderr",
          "text": [
            "training... loss 5.8437: 100%|██████████| 49/49 [00:22<00:00,  2.16it/s]\n"
          ]
        },
        {
          "output_type": "stream",
          "name": "stdout",
          "text": [
            "Adjusting learning rate of group 0 to 8.5074e-02.\n",
            "Epoch 129/500 loss 5.8437 acc 0.2730 test_acc 0.2787\n"
          ]
        },
        {
          "output_type": "stream",
          "name": "stderr",
          "text": [
            "training... loss 8.7904: 100%|██████████| 49/49 [00:22<00:00,  2.16it/s]\n"
          ]
        },
        {
          "output_type": "stream",
          "name": "stdout",
          "text": [
            "Adjusting learning rate of group 0 to 8.4847e-02.\n",
            "Epoch 130/500 loss 8.7904 acc 0.2730 test_acc 0.2787\n",
            "evaluating ...\n",
            "Files already downloaded and verified\n",
            "Files already downloaded and verified\n"
          ]
        },
        {
          "output_type": "stream",
          "name": "stderr",
          "text": [
            "training... loss 2.3996 acc 0.2029: 100%|██████████| 49/49 [00:07<00:00,  6.74it/s]\n",
            "testing... loss 2.1210 acc 0.2356: 100%|██████████| 10/10 [00:03<00:00,  2.93it/s]\n"
          ]
        },
        {
          "output_type": "stream",
          "name": "stdout",
          "text": [
            "Epoch 1/3 loss 2.3996 acc 0.2029 test_loss 2.1210 test_acc 0.2356\n"
          ]
        },
        {
          "output_type": "stream",
          "name": "stderr",
          "text": [
            "training... loss 2.0940 acc 0.2357: 100%|██████████| 49/49 [00:07<00:00,  6.96it/s]\n",
            "testing... loss 2.0796 acc 0.2474: 100%|██████████| 10/10 [00:03<00:00,  2.90it/s]\n"
          ]
        },
        {
          "output_type": "stream",
          "name": "stdout",
          "text": [
            "Epoch 2/3 loss 2.0940 acc 0.2357 test_loss 2.0796 test_acc 0.2474\n"
          ]
        },
        {
          "output_type": "stream",
          "name": "stderr",
          "text": [
            "training... loss 2.0713 acc 0.2432: 100%|██████████| 49/49 [00:06<00:00,  7.12it/s]\n",
            "testing... loss 2.0743 acc 0.2464: 100%|██████████| 10/10 [00:03<00:00,  2.93it/s]\n"
          ]
        },
        {
          "output_type": "stream",
          "name": "stdout",
          "text": [
            "Epoch 3/3 loss 2.0713 acc 0.2432 test_loss 2.0743 test_acc 0.2464\n"
          ]
        },
        {
          "output_type": "stream",
          "name": "stderr",
          "text": [
            "training... loss 6.5168: 100%|██████████| 49/49 [00:22<00:00,  2.15it/s]\n"
          ]
        },
        {
          "output_type": "stream",
          "name": "stdout",
          "text": [
            "Adjusting learning rate of group 0 to 8.4619e-02.\n",
            "Epoch 131/500 loss 6.5168 acc 0.2432 test_acc 0.2464\n"
          ]
        },
        {
          "output_type": "stream",
          "name": "stderr",
          "text": [
            "training... loss 6.3194: 100%|██████████| 49/49 [00:22<00:00,  2.15it/s]\n"
          ]
        },
        {
          "output_type": "stream",
          "name": "stdout",
          "text": [
            "Adjusting learning rate of group 0 to 8.4389e-02.\n",
            "Epoch 132/500 loss 6.3194 acc 0.2432 test_acc 0.2464\n"
          ]
        },
        {
          "output_type": "stream",
          "name": "stderr",
          "text": [
            "training... loss 6.2106: 100%|██████████| 49/49 [00:22<00:00,  2.16it/s]\n"
          ]
        },
        {
          "output_type": "stream",
          "name": "stdout",
          "text": [
            "Adjusting learning rate of group 0 to 8.4158e-02.\n",
            "Epoch 133/500 loss 6.2106 acc 0.2432 test_acc 0.2464\n"
          ]
        },
        {
          "output_type": "stream",
          "name": "stderr",
          "text": [
            "training... loss 6.1947: 100%|██████████| 49/49 [00:22<00:00,  2.15it/s]\n"
          ]
        },
        {
          "output_type": "stream",
          "name": "stdout",
          "text": [
            "Adjusting learning rate of group 0 to 8.3926e-02.\n",
            "Epoch 134/500 loss 6.1947 acc 0.2432 test_acc 0.2464\n"
          ]
        },
        {
          "output_type": "stream",
          "name": "stderr",
          "text": [
            "training... loss 6.0956: 100%|██████████| 49/49 [00:22<00:00,  2.16it/s]\n"
          ]
        },
        {
          "output_type": "stream",
          "name": "stdout",
          "text": [
            "Adjusting learning rate of group 0 to 8.3692e-02.\n",
            "Epoch 135/500 loss 6.0956 acc 0.2432 test_acc 0.2464\n"
          ]
        },
        {
          "output_type": "stream",
          "name": "stderr",
          "text": [
            "training... loss 6.0780: 100%|██████████| 49/49 [00:22<00:00,  2.16it/s]\n"
          ]
        },
        {
          "output_type": "stream",
          "name": "stdout",
          "text": [
            "Adjusting learning rate of group 0 to 8.3457e-02.\n",
            "Epoch 136/500 loss 6.0780 acc 0.2432 test_acc 0.2464\n"
          ]
        },
        {
          "output_type": "stream",
          "name": "stderr",
          "text": [
            "training... loss 6.0554: 100%|██████████| 49/49 [00:22<00:00,  2.15it/s]\n"
          ]
        },
        {
          "output_type": "stream",
          "name": "stdout",
          "text": [
            "Adjusting learning rate of group 0 to 8.3220e-02.\n",
            "Epoch 137/500 loss 6.0554 acc 0.2432 test_acc 0.2464\n"
          ]
        },
        {
          "output_type": "stream",
          "name": "stderr",
          "text": [
            "training... loss 6.0094:  53%|█████▎    | 26/49 [00:16<00:14,  1.61it/s]\n"
          ]
        },
        {
          "output_type": "error",
          "ename": "KeyboardInterrupt",
          "evalue": "ignored",
          "traceback": [
            "\u001b[0;31m---------------------------------------------------------------------------\u001b[0m",
            "\u001b[0;31mKeyboardInterrupt\u001b[0m                         Traceback (most recent call last)",
            "\u001b[0;32m<ipython-input-35-a2e7e257d6a4>\u001b[0m in \u001b[0;36m<module>\u001b[0;34m()\u001b[0m\n\u001b[1;32m      4\u001b[0m \u001b[0mepochs\u001b[0m \u001b[0;34m=\u001b[0m \u001b[0;36m500\u001b[0m\u001b[0;34m\u001b[0m\u001b[0;34m\u001b[0m\u001b[0m\n\u001b[1;32m      5\u001b[0m \u001b[0mscheduler\u001b[0m \u001b[0;34m=\u001b[0m \u001b[0mtorch\u001b[0m\u001b[0;34m.\u001b[0m\u001b[0moptim\u001b[0m\u001b[0;34m.\u001b[0m\u001b[0mlr_scheduler\u001b[0m\u001b[0;34m.\u001b[0m\u001b[0mOneCycleLR\u001b[0m\u001b[0;34m(\u001b[0m\u001b[0moptimizer\u001b[0m\u001b[0;34m,\u001b[0m \u001b[0mpct_start\u001b[0m\u001b[0;34m=\u001b[0m\u001b[0;36m0.01\u001b[0m\u001b[0;34m,\u001b[0m \u001b[0mmax_lr\u001b[0m\u001b[0;34m=\u001b[0m\u001b[0;36m0.1\u001b[0m\u001b[0;34m,\u001b[0m \u001b[0mtotal_steps\u001b[0m\u001b[0;34m=\u001b[0m\u001b[0mepochs\u001b[0m\u001b[0;34m,\u001b[0m \u001b[0mverbose\u001b[0m\u001b[0;34m=\u001b[0m\u001b[0;32mTrue\u001b[0m\u001b[0;34m)\u001b[0m\u001b[0;34m\u001b[0m\u001b[0;34m\u001b[0m\u001b[0m\n\u001b[0;32m----> 6\u001b[0;31m \u001b[0mhist\u001b[0m \u001b[0;34m=\u001b[0m \u001b[0mSSLtrain\u001b[0m\u001b[0;34m(\u001b[0m\u001b[0mSSLmodel\u001b[0m\u001b[0;34m,\u001b[0m \u001b[0mSSLdl\u001b[0m\u001b[0;34m,\u001b[0m \u001b[0moptimizer\u001b[0m\u001b[0;34m,\u001b[0m \u001b[0mscheduler\u001b[0m\u001b[0;34m,\u001b[0m \u001b[0mepochs\u001b[0m\u001b[0;34m=\u001b[0m\u001b[0mepochs\u001b[0m\u001b[0;34m)\u001b[0m\u001b[0;34m\u001b[0m\u001b[0;34m\u001b[0m\u001b[0m\n\u001b[0m",
            "\u001b[0;32m<ipython-input-34-7dfb29002312>\u001b[0m in \u001b[0;36mSSLtrain\u001b[0;34m(model, dl, optimizer, scheduler, epochs, device, eval_each)\u001b[0m\n\u001b[1;32m     54\u001b[0m             \u001b[0mloss\u001b[0m\u001b[0;34m.\u001b[0m\u001b[0mbackward\u001b[0m\u001b[0;34m(\u001b[0m\u001b[0;34m)\u001b[0m\u001b[0;34m\u001b[0m\u001b[0;34m\u001b[0m\u001b[0m\n\u001b[1;32m     55\u001b[0m             \u001b[0moptimizer\u001b[0m\u001b[0;34m.\u001b[0m\u001b[0mstep\u001b[0m\u001b[0;34m(\u001b[0m\u001b[0;34m)\u001b[0m\u001b[0;34m\u001b[0m\u001b[0;34m\u001b[0m\u001b[0m\n\u001b[0;32m---> 56\u001b[0;31m             \u001b[0ml\u001b[0m\u001b[0;34m.\u001b[0m\u001b[0mappend\u001b[0m\u001b[0;34m(\u001b[0m\u001b[0mloss\u001b[0m\u001b[0;34m.\u001b[0m\u001b[0mitem\u001b[0m\u001b[0;34m(\u001b[0m\u001b[0;34m)\u001b[0m\u001b[0;34m)\u001b[0m\u001b[0;34m\u001b[0m\u001b[0;34m\u001b[0m\u001b[0m\n\u001b[0m\u001b[1;32m     57\u001b[0m             \u001b[0mbar\u001b[0m\u001b[0;34m.\u001b[0m\u001b[0mset_description\u001b[0m\u001b[0;34m(\u001b[0m\u001b[0;34mf\"training... loss {np.mean(l):.4f}\"\u001b[0m\u001b[0;34m)\u001b[0m\u001b[0;34m\u001b[0m\u001b[0;34m\u001b[0m\u001b[0m\n\u001b[1;32m     58\u001b[0m         \u001b[0mhist\u001b[0m\u001b[0;34m[\u001b[0m\u001b[0;34m'loss'\u001b[0m\u001b[0;34m]\u001b[0m\u001b[0;34m.\u001b[0m\u001b[0mappend\u001b[0m\u001b[0;34m(\u001b[0m\u001b[0mnp\u001b[0m\u001b[0;34m.\u001b[0m\u001b[0mmean\u001b[0m\u001b[0;34m(\u001b[0m\u001b[0ml\u001b[0m\u001b[0;34m)\u001b[0m\u001b[0;34m)\u001b[0m\u001b[0;34m\u001b[0m\u001b[0;34m\u001b[0m\u001b[0m\n",
            "\u001b[0;31mKeyboardInterrupt\u001b[0m: "
          ]
        }
      ]
    },
    {
      "cell_type": "code",
      "source": [
        "fig = plt.figure(figsize=(10, 3), dpi=100)\n",
        "ax = plt.subplot(1, 2, 1)\n",
        "ax.plot(hist['loss'])\n",
        "ax.legend(['loss'])\n",
        "ax.grid(True)\n",
        "ax = plt.subplot(1, 2, 2)\n",
        "ax.plot(hist['acc'])\n",
        "ax.plot(hist['test_acc'])\n",
        "ax.legend(['acc', 'test_acc'])\n",
        "ax.grid(True)\n",
        "plt.show()"
      ],
      "metadata": {
        "id": "8wDjIm-zCreY"
      },
      "execution_count": null,
      "outputs": []
    },
    {
      "cell_type": "code",
      "source": [
        "torch.jit.script(SSLmodel.backbone.cpu()).save('SSLbackbone.pt')"
      ],
      "metadata": {
        "id": "NXo0o68FC7dC"
      },
      "execution_count": null,
      "outputs": []
    },
    {
      "cell_type": "code",
      "source": [
        "pctgs = [0.01, 0.1, 1.]\n",
        "batch_size = 1024\n",
        "epochs=3\n",
        "lr=1e-3\n",
        "ssl_hists = []\n",
        "for pctg in pctgs:\n",
        "    ds = {\n",
        "        'train': Dataset(pctg=pctg),\n",
        "        'test': Dataset(train=False)\n",
        "    }\n",
        "    dl = {\n",
        "        'train': torch.utils.data.DataLoader(ds['train'], batch_size=batch_size, shuffle=True, num_workers=num_workers),\n",
        "        'test': torch.utils.data.DataLoader(ds['test'], batch_size=batch_size, shuffle=False, num_workers=num_workers)\n",
        "    } \n",
        "    FTmodel = FTModel()\n",
        "    optimizer = torch.optim.Adam(FTmodel.parameters(), lr=lr)\n",
        "    hist = train(FTmodel, dl, optimizer, epochs=epochs)\n",
        "    ssl_hists.append(hist)"
      ],
      "metadata": {
        "id": "VEqo6QYkD2Iq"
      },
      "execution_count": null,
      "outputs": []
    },
    {
      "cell_type": "code",
      "source": [
        "fig = plt.figure(figsize=(8, 3), dpi=100)\n",
        "ax = plt.subplot(1, 2, 1)\n",
        "for i, pctg in enumerate(pctgs):\n",
        "    ax.plot(ssl_hists[i]['test_loss'], label=f'{pctg} (ssl)')\n",
        "ax.grid(True)\n",
        "ax.legend()\n",
        "ax.set_title('loss')\n",
        "ax = plt.subplot(1, 2, 2)\n",
        "for i, pctg in enumerate(pctgs):\n",
        "    ax.plot(ssl_hists[i]['test_acc'])\n",
        "ax.grid(True)\n",
        "ax.set_title('acc')\n",
        "plt.tight_layout()\n",
        "plt.show()\n",
        "# 12, 22, 44\n",
        "# 13, 28, 60"
      ],
      "metadata": {
        "id": "M3yc3G4yD7g1"
      },
      "execution_count": null,
      "outputs": []
    }
  ]
}