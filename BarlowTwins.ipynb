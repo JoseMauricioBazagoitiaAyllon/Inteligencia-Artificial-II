{
  "nbformat": 4,
  "nbformat_minor": 0,
  "metadata": {
    "colab": {
      "name": "BarlowTwins.ipynb",
      "provenance": [],
      "collapsed_sections": [],
      "authorship_tag": "ABX9TyNkxW+VDauKlZrKVXNUpHg5",
      "include_colab_link": true
    },
    "kernelspec": {
      "name": "python3",
      "display_name": "Python 3"
    },
    "language_info": {
      "name": "python"
    },
    "accelerator": "GPU",
    "gpuClass": "standard"
  },
  "cells": [
    {
      "cell_type": "markdown",
      "metadata": {
        "id": "view-in-github",
        "colab_type": "text"
      },
      "source": [
        "<a href=\"https://colab.research.google.com/github/JoseMauricioBazagoitiaAyllon/Inteligencia-Artificial-II/blob/main/BarlowTwins.ipynb\" target=\"_parent\"><img src=\"https://colab.research.google.com/assets/colab-badge.svg\" alt=\"Open In Colab\"/></a>"
      ]
    },
    {
      "cell_type": "markdown",
      "source": [
        "# *Self-Supervised Learning*"
      ],
      "metadata": {
        "id": "2uhzHMHmbiJN"
      }
    },
    {
      "cell_type": "markdown",
      "source": [
        "Para tener claro este concepto se necesita poner claro los tipos de aprendizaje que son dos el aprendisaje supervisado y el aprendisaje no supervisado.\n",
        "\n",
        "![](https://miro.medium.com/max/4416/1*bvMhd_xpVxfJYoKXYp5hug.png)\n",
        "\n",
        "Dependiendo de los datos disponibles y la tarea que queramos abordar, podemos elegir entre distintos tipos de aprendizaje. Estos son: aprendizaje supervisado, aprendizaje no supervisado, aprendizaje semi-supervisado y aprendizaje por refuerzo.\n",
        "\n",
        "* Aprendizaje supervisado \n",
        "El aprendizaje supervisado necesita conjuntos de datos etiquetados, es decir, le decimos al modelo qué es lo que queremos que aprenda, y basandonos en los resultados conseguimos podemos modificar los parametros para mejorar el modelo..\n",
        "Dependiendo del tipo de etiqueta, dentro del aprendizaje supervisado existen dos tipos de modelos: \n",
        "-Modelos de clasificacion\n",
        "-Modelos de regrecion\n",
        "* Aprendizaje no supervisado \n",
        "El aprendizaje no supervisado trabaja con datos que no han sido etiquetados. No tenemos una etiqueta que predecir. Estos algoritmos se usan principalmente en tareas donde es necesario analizar los datos para extraer nuevo conocimiento o agrupar entidades por afinidad.\n",
        "* Aprendizaje semi-supervisado \n",
        "Este tipo de aprendizaje tiene un poco de los dos anteriores. Usando este enfoque, se comienza etiquetando manualmente algunos datos. Una vez tenemos una pequeña porción de datos etiquetados, entrenamos uno o varios algoritmos de aprendizaje supervisado sobre esa pequeña parte de datos etiquetados y utilizamos los modelos resultantes del entrenamiento para etiquetar el resto de datos.\n",
        "* Aprendizaje por refuerzo \n",
        "el aprendizaje por refuerzo es un método de aprendizaje automático que se basa en recompensar los comportamientos deseados y penalizar los no deseados.\n",
        "Para profundizar los contextos podria vistar el proximo enlace https://datos.gob.es/es/blog/como-aprenden-las-maquinas-machine-learning-y-sus-diferentes-tipos\n",
        "\n"
      ],
      "metadata": {
        "id": "YGcvtTDVbpb_"
      }
    },
    {
      "cell_type": "markdown",
      "source": [
        "# *Barlow Twins*"
      ],
      "metadata": {
        "id": "F6fvQw2bDAFM"
      }
    },
    {
      "cell_type": "markdown",
      "source": [
        "![](https://user-images.githubusercontent.com/14848164/120419539-b0fab900-c330-11eb-8536-126ce6ce7b85.png)\n",
        "Pra explicar este modelo esta imagen sera de mucha ayuda, \n",
        "en un principio se cuenta un dataset con imagenes sin etiquetaslo cul lo vuelve un modelo de aprendizaje no supervisado, como no se cuenta con etiquetas para medir la perdida este modelo obta por realizar un copia de de los datos, pero esta cpia no sera identica sino constara de de transformaciones laws cuales nos permitira contar con dos caminos que compara.\n",
        "Esta imagenes que ya cuentan con la transformacion la yamaremos Y^A y Y^B.\n",
        "cada una de estas imagenes serviran como entrada a para los distintos entrenamiento esto nos lanzara valores para cada dataSet que los de nominaremos embeddings estos enbeddings seran compparadas de nuevo para conseguir lo mas parecido a una matris identidad mediante una funcion denominada Empirical cross-correlation.\n",
        "danto los resultados finales.\n",
        "Para un mayor entendimiento contaremos con 2 ejemplos\n",
        "https://github.com/facebookresearch/barlowtwins \n",
        "Ejemplo Git Hub\n",
        "https://colab.research.google.com/github/juansensio/blog/blob/master/066_ssl/ssl.ipynb\n",
        "Ejemplo de Sensio\n",
        "\n",
        "y por ultimo una edicion del cuadernillo de sensio comentado\n"
      ],
      "metadata": {
        "id": "rgLNiuLIVOPL"
      }
    }
  ]
}